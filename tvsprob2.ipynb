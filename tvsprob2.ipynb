{
 "cells": [
  {
   "cell_type": "code",
   "execution_count": 7,
   "id": "1e0cbe7f-ad54-402c-a9ed-926b10d8fd00",
   "metadata": {},
   "outputs": [],
   "source": [
    "import pandas as pd\n",
    "import numpy as np\n",
    "import matplotlib.pyplot as plt\n",
    "import seaborn as sns\n",
    "%matplotlib inline"
   ]
  },
  {
   "cell_type": "code",
   "execution_count": 105,
   "id": "1d0882e9-f752-4f00-8c4e-eba487e4dbcc",
   "metadata": {},
   "outputs": [
    {
     "data": {
      "text/html": [
       "<div>\n",
       "<style scoped>\n",
       "    .dataframe tbody tr th:only-of-type {\n",
       "        vertical-align: middle;\n",
       "    }\n",
       "\n",
       "    .dataframe tbody tr th {\n",
       "        vertical-align: top;\n",
       "    }\n",
       "\n",
       "    .dataframe thead th {\n",
       "        text-align: right;\n",
       "    }\n",
       "</style>\n",
       "<table border=\"1\" class=\"dataframe\">\n",
       "  <thead>\n",
       "    <tr style=\"text-align: right;\">\n",
       "      <th></th>\n",
       "      <th>id_new</th>\n",
       "      <th>MOB_DIFF</th>\n",
       "      <th>hour</th>\n",
       "      <th>Enqgrp2</th>\n",
       "      <th>DAY_DIFF</th>\n",
       "      <th>age_band_new</th>\n",
       "      <th>location</th>\n",
       "      <th>cbs_band</th>\n",
       "      <th>Chan</th>\n",
       "      <th>gendr</th>\n",
       "      <th>portf</th>\n",
       "    </tr>\n",
       "  </thead>\n",
       "  <tbody>\n",
       "    <tr>\n",
       "      <th>0</th>\n",
       "      <td>83229</td>\n",
       "      <td>14.0</td>\n",
       "      <td>10</td>\n",
       "      <td>32</td>\n",
       "      <td>27.0</td>\n",
       "      <td>3</td>\n",
       "      <td>2</td>\n",
       "      <td>0</td>\n",
       "      <td>1</td>\n",
       "      <td>0</td>\n",
       "      <td>9</td>\n",
       "    </tr>\n",
       "    <tr>\n",
       "      <th>1</th>\n",
       "      <td>20717</td>\n",
       "      <td>40.0</td>\n",
       "      <td>3</td>\n",
       "      <td>50</td>\n",
       "      <td>71.0</td>\n",
       "      <td>2</td>\n",
       "      <td>2</td>\n",
       "      <td>3</td>\n",
       "      <td>1</td>\n",
       "      <td>1</td>\n",
       "      <td>0</td>\n",
       "    </tr>\n",
       "    <tr>\n",
       "      <th>2</th>\n",
       "      <td>166082</td>\n",
       "      <td>3.0</td>\n",
       "      <td>5</td>\n",
       "      <td>1</td>\n",
       "      <td>3.0</td>\n",
       "      <td>0</td>\n",
       "      <td>3</td>\n",
       "      <td>3</td>\n",
       "      <td>1</td>\n",
       "      <td>0</td>\n",
       "      <td>9</td>\n",
       "    </tr>\n",
       "    <tr>\n",
       "      <th>3</th>\n",
       "      <td>30808</td>\n",
       "      <td>33.0</td>\n",
       "      <td>12</td>\n",
       "      <td>49</td>\n",
       "      <td>103.0</td>\n",
       "      <td>4</td>\n",
       "      <td>3</td>\n",
       "      <td>2</td>\n",
       "      <td>1</td>\n",
       "      <td>0</td>\n",
       "      <td>4</td>\n",
       "    </tr>\n",
       "    <tr>\n",
       "      <th>4</th>\n",
       "      <td>186913</td>\n",
       "      <td>3.0</td>\n",
       "      <td>11</td>\n",
       "      <td>18</td>\n",
       "      <td>52.0</td>\n",
       "      <td>3</td>\n",
       "      <td>2</td>\n",
       "      <td>2</td>\n",
       "      <td>2</td>\n",
       "      <td>1</td>\n",
       "      <td>17</td>\n",
       "    </tr>\n",
       "  </tbody>\n",
       "</table>\n",
       "</div>"
      ],
      "text/plain": [
       "   id_new  MOB_DIFF  hour  Enqgrp2  DAY_DIFF  age_band_new  location  \\\n",
       "0   83229      14.0    10       32      27.0             3         2   \n",
       "1   20717      40.0     3       50      71.0             2         2   \n",
       "2  166082       3.0     5        1       3.0             0         3   \n",
       "3   30808      33.0    12       49     103.0             4         3   \n",
       "4  186913       3.0    11       18      52.0             3         2   \n",
       "\n",
       "   cbs_band  Chan  gendr  portf  \n",
       "0         0     1      0      9  \n",
       "1         3     1      1      0  \n",
       "2         3     1      0      9  \n",
       "3         2     1      0      4  \n",
       "4         2     2      1     17  "
      ]
     },
     "execution_count": 105,
     "metadata": {},
     "output_type": "execute_result"
    }
   ],
   "source": [
    "#importing the dataset\n",
    "df=pd.read_csv('test2.csv')\n",
    "df.head()"
   ]
  },
  {
   "cell_type": "code",
   "execution_count": 106,
   "id": "30aabf37-9708-4595-a713-2a7ba91f0561",
   "metadata": {},
   "outputs": [
    {
     "name": "stdout",
     "output_type": "stream",
     "text": [
      "<class 'pandas.core.frame.DataFrame'>\n",
      "RangeIndex: 999999 entries, 0 to 999998\n",
      "Data columns (total 11 columns):\n",
      " #   Column        Non-Null Count   Dtype  \n",
      "---  ------        --------------   -----  \n",
      " 0   id_new        999999 non-null  int64  \n",
      " 1   MOB_DIFF      999999 non-null  float64\n",
      " 2   hour          999999 non-null  int64  \n",
      " 3   Enqgrp2       999999 non-null  int64  \n",
      " 4   DAY_DIFF      999999 non-null  float64\n",
      " 5   age_band_new  999999 non-null  int64  \n",
      " 6   location      999999 non-null  int64  \n",
      " 7   cbs_band      999999 non-null  int64  \n",
      " 8   Chan          999999 non-null  int64  \n",
      " 9   gendr         999999 non-null  int64  \n",
      " 10  portf         999999 non-null  int64  \n",
      "dtypes: float64(2), int64(9)\n",
      "memory usage: 83.9 MB\n"
     ]
    }
   ],
   "source": [
    "df.info()"
   ]
  },
  {
   "cell_type": "code",
   "execution_count": 107,
   "id": "2c6c096b-c21a-4b49-ae8a-af3554068298",
   "metadata": {},
   "outputs": [
    {
     "data": {
      "text/html": [
       "<div>\n",
       "<style scoped>\n",
       "    .dataframe tbody tr th:only-of-type {\n",
       "        vertical-align: middle;\n",
       "    }\n",
       "\n",
       "    .dataframe tbody tr th {\n",
       "        vertical-align: top;\n",
       "    }\n",
       "\n",
       "    .dataframe thead th {\n",
       "        text-align: right;\n",
       "    }\n",
       "</style>\n",
       "<table border=\"1\" class=\"dataframe\">\n",
       "  <thead>\n",
       "    <tr style=\"text-align: right;\">\n",
       "      <th></th>\n",
       "      <th>id_new</th>\n",
       "      <th>MOB_DIFF</th>\n",
       "      <th>hour</th>\n",
       "      <th>Enqgrp2</th>\n",
       "      <th>DAY_DIFF</th>\n",
       "      <th>age_band_new</th>\n",
       "      <th>location</th>\n",
       "      <th>cbs_band</th>\n",
       "      <th>Chan</th>\n",
       "      <th>gendr</th>\n",
       "      <th>portf</th>\n",
       "    </tr>\n",
       "  </thead>\n",
       "  <tbody>\n",
       "    <tr>\n",
       "      <th>count</th>\n",
       "      <td>999999.000000</td>\n",
       "      <td>999999.000000</td>\n",
       "      <td>999999.000000</td>\n",
       "      <td>999999.000000</td>\n",
       "      <td>999999.000000</td>\n",
       "      <td>999999.000000</td>\n",
       "      <td>999999.000000</td>\n",
       "      <td>999999.000000</td>\n",
       "      <td>999999.000000</td>\n",
       "      <td>999999.000000</td>\n",
       "      <td>999999.000000</td>\n",
       "    </tr>\n",
       "    <tr>\n",
       "      <th>mean</th>\n",
       "      <td>140496.619774</td>\n",
       "      <td>11.357450</td>\n",
       "      <td>10.476024</td>\n",
       "      <td>33.141376</td>\n",
       "      <td>82.330710</td>\n",
       "      <td>1.469129</td>\n",
       "      <td>1.957687</td>\n",
       "      <td>2.247740</td>\n",
       "      <td>1.103483</td>\n",
       "      <td>0.150161</td>\n",
       "      <td>8.236955</td>\n",
       "    </tr>\n",
       "    <tr>\n",
       "      <th>std</th>\n",
       "      <td>78830.403715</td>\n",
       "      <td>18.211534</td>\n",
       "      <td>4.640462</td>\n",
       "      <td>20.726092</td>\n",
       "      <td>51.179687</td>\n",
       "      <td>1.320362</td>\n",
       "      <td>1.029799</td>\n",
       "      <td>1.509104</td>\n",
       "      <td>0.609904</td>\n",
       "      <td>0.357229</td>\n",
       "      <td>5.956383</td>\n",
       "    </tr>\n",
       "    <tr>\n",
       "      <th>min</th>\n",
       "      <td>0.000000</td>\n",
       "      <td>-6.000000</td>\n",
       "      <td>0.000000</td>\n",
       "      <td>0.000000</td>\n",
       "      <td>1.000000</td>\n",
       "      <td>0.000000</td>\n",
       "      <td>0.000000</td>\n",
       "      <td>0.000000</td>\n",
       "      <td>0.000000</td>\n",
       "      <td>0.000000</td>\n",
       "      <td>0.000000</td>\n",
       "    </tr>\n",
       "    <tr>\n",
       "      <th>25%</th>\n",
       "      <td>73061.000000</td>\n",
       "      <td>1.000000</td>\n",
       "      <td>7.000000</td>\n",
       "      <td>18.000000</td>\n",
       "      <td>37.000000</td>\n",
       "      <td>0.000000</td>\n",
       "      <td>2.000000</td>\n",
       "      <td>0.000000</td>\n",
       "      <td>1.000000</td>\n",
       "      <td>0.000000</td>\n",
       "      <td>4.000000</td>\n",
       "    </tr>\n",
       "    <tr>\n",
       "      <th>50%</th>\n",
       "      <td>142355.000000</td>\n",
       "      <td>5.000000</td>\n",
       "      <td>11.000000</td>\n",
       "      <td>32.000000</td>\n",
       "      <td>79.000000</td>\n",
       "      <td>2.000000</td>\n",
       "      <td>2.000000</td>\n",
       "      <td>3.000000</td>\n",
       "      <td>1.000000</td>\n",
       "      <td>0.000000</td>\n",
       "      <td>9.000000</td>\n",
       "    </tr>\n",
       "    <tr>\n",
       "      <th>75%</th>\n",
       "      <td>208219.000000</td>\n",
       "      <td>15.000000</td>\n",
       "      <td>14.000000</td>\n",
       "      <td>50.000000</td>\n",
       "      <td>124.000000</td>\n",
       "      <td>3.000000</td>\n",
       "      <td>2.000000</td>\n",
       "      <td>3.000000</td>\n",
       "      <td>1.000000</td>\n",
       "      <td>0.000000</td>\n",
       "      <td>9.000000</td>\n",
       "    </tr>\n",
       "    <tr>\n",
       "      <th>max</th>\n",
       "      <td>276964.000000</td>\n",
       "      <td>165.000000</td>\n",
       "      <td>23.000000</td>\n",
       "      <td>73.000000</td>\n",
       "      <td>182.000000</td>\n",
       "      <td>6.000000</td>\n",
       "      <td>7.000000</td>\n",
       "      <td>5.000000</td>\n",
       "      <td>2.000000</td>\n",
       "      <td>1.000000</td>\n",
       "      <td>28.000000</td>\n",
       "    </tr>\n",
       "  </tbody>\n",
       "</table>\n",
       "</div>"
      ],
      "text/plain": [
       "              id_new       MOB_DIFF           hour        Enqgrp2  \\\n",
       "count  999999.000000  999999.000000  999999.000000  999999.000000   \n",
       "mean   140496.619774      11.357450      10.476024      33.141376   \n",
       "std     78830.403715      18.211534       4.640462      20.726092   \n",
       "min         0.000000      -6.000000       0.000000       0.000000   \n",
       "25%     73061.000000       1.000000       7.000000      18.000000   \n",
       "50%    142355.000000       5.000000      11.000000      32.000000   \n",
       "75%    208219.000000      15.000000      14.000000      50.000000   \n",
       "max    276964.000000     165.000000      23.000000      73.000000   \n",
       "\n",
       "            DAY_DIFF   age_band_new       location       cbs_band  \\\n",
       "count  999999.000000  999999.000000  999999.000000  999999.000000   \n",
       "mean       82.330710       1.469129       1.957687       2.247740   \n",
       "std        51.179687       1.320362       1.029799       1.509104   \n",
       "min         1.000000       0.000000       0.000000       0.000000   \n",
       "25%        37.000000       0.000000       2.000000       0.000000   \n",
       "50%        79.000000       2.000000       2.000000       3.000000   \n",
       "75%       124.000000       3.000000       2.000000       3.000000   \n",
       "max       182.000000       6.000000       7.000000       5.000000   \n",
       "\n",
       "                Chan          gendr          portf  \n",
       "count  999999.000000  999999.000000  999999.000000  \n",
       "mean        1.103483       0.150161       8.236955  \n",
       "std         0.609904       0.357229       5.956383  \n",
       "min         0.000000       0.000000       0.000000  \n",
       "25%         1.000000       0.000000       4.000000  \n",
       "50%         1.000000       0.000000       9.000000  \n",
       "75%         1.000000       0.000000       9.000000  \n",
       "max         2.000000       1.000000      28.000000  "
      ]
     },
     "execution_count": 107,
     "metadata": {},
     "output_type": "execute_result"
    }
   ],
   "source": [
    "df.describe()"
   ]
  },
  {
   "cell_type": "code",
   "execution_count": 108,
   "id": "b84149f2-2d0a-4dd9-b5e3-499df5d2af4f",
   "metadata": {},
   "outputs": [
    {
     "data": {
      "text/plain": [
       "id_new          0\n",
       "MOB_DIFF        0\n",
       "hour            0\n",
       "Enqgrp2         0\n",
       "DAY_DIFF        0\n",
       "age_band_new    0\n",
       "location        0\n",
       "cbs_band        0\n",
       "Chan            0\n",
       "gendr           0\n",
       "portf           0\n",
       "dtype: int64"
      ]
     },
     "execution_count": 108,
     "metadata": {},
     "output_type": "execute_result"
    }
   ],
   "source": [
    "df.isnull().sum()"
   ]
  },
  {
   "cell_type": "code",
   "execution_count": 109,
   "id": "589aa47e-eeb7-4fd1-8b59-205d2085eaa0",
   "metadata": {},
   "outputs": [
    {
     "data": {
      "text/plain": [
       "[]"
      ]
     },
     "execution_count": 109,
     "metadata": {},
     "output_type": "execute_result"
    }
   ],
   "source": [
    "[features for features in df.columns if df[features].isnull().sum()>0]"
   ]
  },
  {
   "cell_type": "code",
   "execution_count": 110,
   "id": "cc0a2239-8093-4542-ba67-d45d401649d9",
   "metadata": {},
   "outputs": [],
   "source": [
    "correlation = df['DAY_DIFF'].corr(df['Chan'])"
   ]
  },
  {
   "cell_type": "code",
   "execution_count": 111,
   "id": "44c049a6-41e9-47ae-86a0-fb9bfc343ad7",
   "metadata": {},
   "outputs": [
    {
     "data": {
      "text/plain": [
       "np.float64(0.029709237695863224)"
      ]
     },
     "execution_count": 111,
     "metadata": {},
     "output_type": "execute_result"
    }
   ],
   "source": [
    "correlation"
   ]
  },
  {
   "cell_type": "code",
   "execution_count": 112,
   "id": "416485c5-a464-469d-b147-85227750a687",
   "metadata": {},
   "outputs": [],
   "source": [
    "correlation = df['DAY_DIFF'].corr(df['MOB_DIFF'])"
   ]
  },
  {
   "cell_type": "code",
   "execution_count": 113,
   "id": "9d126184-c9b1-41a1-80b0-f8f1fd7fb6a1",
   "metadata": {},
   "outputs": [
    {
     "data": {
      "text/plain": [
       "np.float64(-0.0502706754503217)"
      ]
     },
     "execution_count": 113,
     "metadata": {},
     "output_type": "execute_result"
    }
   ],
   "source": [
    "correlation"
   ]
  },
  {
   "cell_type": "code",
   "execution_count": 114,
   "id": "9431bf55-2ddc-4aab-9fe5-e549db3a68d6",
   "metadata": {},
   "outputs": [],
   "source": [
    "correlation = df['age_band_new'].corr(df['Chan'])"
   ]
  },
  {
   "cell_type": "code",
   "execution_count": 115,
   "id": "3682468e-e3db-4594-851d-93fe0b3f0659",
   "metadata": {},
   "outputs": [
    {
     "data": {
      "text/plain": [
       "np.float64(-0.0034222648864231735)"
      ]
     },
     "execution_count": 115,
     "metadata": {},
     "output_type": "execute_result"
    }
   ],
   "source": [
    "correlation"
   ]
  },
  {
   "cell_type": "code",
   "execution_count": 116,
   "id": "7f786653-66e1-4cd4-b2c0-e9850a914217",
   "metadata": {},
   "outputs": [
    {
     "data": {
      "text/plain": [
       "np.float64(-0.07620859435425652)"
      ]
     },
     "execution_count": 116,
     "metadata": {},
     "output_type": "execute_result"
    }
   ],
   "source": [
    "df['age_band_new'].corr(df['cbs_band'])"
   ]
  },
  {
   "cell_type": "code",
   "execution_count": 117,
   "id": "c6bb4fef-4ac4-4c0b-b5e3-4e634e62ab73",
   "metadata": {},
   "outputs": [
    {
     "data": {
      "text/plain": [
       "array([32, 50,  1, 49, 18, 55, 62, 25,  2, 58, 68, 52,  5, 19, 46, 11, 44,\n",
       "        7, 67, 21, 64, 41, 16, 28, 65, 59, 60, 73, 63, 70, 43, 20, 31,  0,\n",
       "       38, 30, 23,  6, 51, 71, 35, 22, 14, 40,  4, 29,  9, 42, 57, 34, 56,\n",
       "       37, 27, 39, 66, 10, 72, 13, 33, 36, 69, 48,  8, 45, 12,  3, 15, 53,\n",
       "       47, 17, 24, 61, 54, 26])"
      ]
     },
     "execution_count": 117,
     "metadata": {},
     "output_type": "execute_result"
    }
   ],
   "source": [
    "df['Enqgrp2'].unique()"
   ]
  },
  {
   "cell_type": "code",
   "execution_count": 118,
   "id": "d0b02a1c-abe0-49f5-83aa-faa467f1581d",
   "metadata": {},
   "outputs": [
    {
     "data": {
      "text/plain": [
       "np.int64(0)"
      ]
     },
     "execution_count": 118,
     "metadata": {},
     "output_type": "execute_result"
    }
   ],
   "source": [
    "(df['Enqgrp2'] == 'Login').sum()"
   ]
  },
  {
   "cell_type": "code",
   "execution_count": 119,
   "id": "9d2289b5-b690-4fea-8669-518eda330f7a",
   "metadata": {},
   "outputs": [
    {
     "data": {
      "text/plain": [
       "np.int64(0)"
      ]
     },
     "execution_count": 119,
     "metadata": {},
     "output_type": "execute_result"
    }
   ],
   "source": [
    "(df['Enqgrp2'] == 'NOC').sum()"
   ]
  },
  {
   "cell_type": "code",
   "execution_count": 120,
   "id": "069a5b57-eaef-4035-9346-d4bd40a65d17",
   "metadata": {},
   "outputs": [
    {
     "ename": "KeyError",
     "evalue": "\"['state'] not found in axis\"",
     "output_type": "error",
     "traceback": [
      "\u001b[1;31m---------------------------------------------------------------------------\u001b[0m",
      "\u001b[1;31mKeyError\u001b[0m                                  Traceback (most recent call last)",
      "Cell \u001b[1;32mIn[120], line 1\u001b[0m\n\u001b[1;32m----> 1\u001b[0m \u001b[43mdf\u001b[49m\u001b[38;5;241;43m.\u001b[39;49m\u001b[43mdrop\u001b[49m\u001b[43m(\u001b[49m\u001b[43m[\u001b[49m\u001b[38;5;124;43m'\u001b[39;49m\u001b[38;5;124;43mstate\u001b[39;49m\u001b[38;5;124;43m'\u001b[39;49m\u001b[43m]\u001b[49m\u001b[43m,\u001b[49m\u001b[43maxis\u001b[49m\u001b[38;5;241;43m=\u001b[39;49m\u001b[38;5;241;43m1\u001b[39;49m\u001b[43m,\u001b[49m\u001b[43minplace\u001b[49m\u001b[38;5;241;43m=\u001b[39;49m\u001b[38;5;28;43;01mTrue\u001b[39;49;00m\u001b[43m)\u001b[49m\n",
      "File \u001b[1;32m~\\AppData\\Local\\Programs\\Python\\Python312\\Lib\\site-packages\\pandas\\core\\frame.py:5581\u001b[0m, in \u001b[0;36mDataFrame.drop\u001b[1;34m(self, labels, axis, index, columns, level, inplace, errors)\u001b[0m\n\u001b[0;32m   5433\u001b[0m \u001b[38;5;28;01mdef\u001b[39;00m \u001b[38;5;21mdrop\u001b[39m(\n\u001b[0;32m   5434\u001b[0m     \u001b[38;5;28mself\u001b[39m,\n\u001b[0;32m   5435\u001b[0m     labels: IndexLabel \u001b[38;5;241m|\u001b[39m \u001b[38;5;28;01mNone\u001b[39;00m \u001b[38;5;241m=\u001b[39m \u001b[38;5;28;01mNone\u001b[39;00m,\n\u001b[1;32m   (...)\u001b[0m\n\u001b[0;32m   5442\u001b[0m     errors: IgnoreRaise \u001b[38;5;241m=\u001b[39m \u001b[38;5;124m\"\u001b[39m\u001b[38;5;124mraise\u001b[39m\u001b[38;5;124m\"\u001b[39m,\n\u001b[0;32m   5443\u001b[0m ) \u001b[38;5;241m-\u001b[39m\u001b[38;5;241m>\u001b[39m DataFrame \u001b[38;5;241m|\u001b[39m \u001b[38;5;28;01mNone\u001b[39;00m:\n\u001b[0;32m   5444\u001b[0m \u001b[38;5;250m    \u001b[39m\u001b[38;5;124;03m\"\"\"\u001b[39;00m\n\u001b[0;32m   5445\u001b[0m \u001b[38;5;124;03m    Drop specified labels from rows or columns.\u001b[39;00m\n\u001b[0;32m   5446\u001b[0m \n\u001b[1;32m   (...)\u001b[0m\n\u001b[0;32m   5579\u001b[0m \u001b[38;5;124;03m            weight  1.0     0.8\u001b[39;00m\n\u001b[0;32m   5580\u001b[0m \u001b[38;5;124;03m    \"\"\"\u001b[39;00m\n\u001b[1;32m-> 5581\u001b[0m     \u001b[38;5;28;01mreturn\u001b[39;00m \u001b[38;5;28;43msuper\u001b[39;49m\u001b[43m(\u001b[49m\u001b[43m)\u001b[49m\u001b[38;5;241;43m.\u001b[39;49m\u001b[43mdrop\u001b[49m\u001b[43m(\u001b[49m\n\u001b[0;32m   5582\u001b[0m \u001b[43m        \u001b[49m\u001b[43mlabels\u001b[49m\u001b[38;5;241;43m=\u001b[39;49m\u001b[43mlabels\u001b[49m\u001b[43m,\u001b[49m\n\u001b[0;32m   5583\u001b[0m \u001b[43m        \u001b[49m\u001b[43maxis\u001b[49m\u001b[38;5;241;43m=\u001b[39;49m\u001b[43maxis\u001b[49m\u001b[43m,\u001b[49m\n\u001b[0;32m   5584\u001b[0m \u001b[43m        \u001b[49m\u001b[43mindex\u001b[49m\u001b[38;5;241;43m=\u001b[39;49m\u001b[43mindex\u001b[49m\u001b[43m,\u001b[49m\n\u001b[0;32m   5585\u001b[0m \u001b[43m        \u001b[49m\u001b[43mcolumns\u001b[49m\u001b[38;5;241;43m=\u001b[39;49m\u001b[43mcolumns\u001b[49m\u001b[43m,\u001b[49m\n\u001b[0;32m   5586\u001b[0m \u001b[43m        \u001b[49m\u001b[43mlevel\u001b[49m\u001b[38;5;241;43m=\u001b[39;49m\u001b[43mlevel\u001b[49m\u001b[43m,\u001b[49m\n\u001b[0;32m   5587\u001b[0m \u001b[43m        \u001b[49m\u001b[43minplace\u001b[49m\u001b[38;5;241;43m=\u001b[39;49m\u001b[43minplace\u001b[49m\u001b[43m,\u001b[49m\n\u001b[0;32m   5588\u001b[0m \u001b[43m        \u001b[49m\u001b[43merrors\u001b[49m\u001b[38;5;241;43m=\u001b[39;49m\u001b[43merrors\u001b[49m\u001b[43m,\u001b[49m\n\u001b[0;32m   5589\u001b[0m \u001b[43m    \u001b[49m\u001b[43m)\u001b[49m\n",
      "File \u001b[1;32m~\\AppData\\Local\\Programs\\Python\\Python312\\Lib\\site-packages\\pandas\\core\\generic.py:4788\u001b[0m, in \u001b[0;36mNDFrame.drop\u001b[1;34m(self, labels, axis, index, columns, level, inplace, errors)\u001b[0m\n\u001b[0;32m   4786\u001b[0m \u001b[38;5;28;01mfor\u001b[39;00m axis, labels \u001b[38;5;129;01min\u001b[39;00m axes\u001b[38;5;241m.\u001b[39mitems():\n\u001b[0;32m   4787\u001b[0m     \u001b[38;5;28;01mif\u001b[39;00m labels \u001b[38;5;129;01mis\u001b[39;00m \u001b[38;5;129;01mnot\u001b[39;00m \u001b[38;5;28;01mNone\u001b[39;00m:\n\u001b[1;32m-> 4788\u001b[0m         obj \u001b[38;5;241m=\u001b[39m \u001b[43mobj\u001b[49m\u001b[38;5;241;43m.\u001b[39;49m\u001b[43m_drop_axis\u001b[49m\u001b[43m(\u001b[49m\u001b[43mlabels\u001b[49m\u001b[43m,\u001b[49m\u001b[43m \u001b[49m\u001b[43maxis\u001b[49m\u001b[43m,\u001b[49m\u001b[43m \u001b[49m\u001b[43mlevel\u001b[49m\u001b[38;5;241;43m=\u001b[39;49m\u001b[43mlevel\u001b[49m\u001b[43m,\u001b[49m\u001b[43m \u001b[49m\u001b[43merrors\u001b[49m\u001b[38;5;241;43m=\u001b[39;49m\u001b[43merrors\u001b[49m\u001b[43m)\u001b[49m\n\u001b[0;32m   4790\u001b[0m \u001b[38;5;28;01mif\u001b[39;00m inplace:\n\u001b[0;32m   4791\u001b[0m     \u001b[38;5;28mself\u001b[39m\u001b[38;5;241m.\u001b[39m_update_inplace(obj)\n",
      "File \u001b[1;32m~\\AppData\\Local\\Programs\\Python\\Python312\\Lib\\site-packages\\pandas\\core\\generic.py:4830\u001b[0m, in \u001b[0;36mNDFrame._drop_axis\u001b[1;34m(self, labels, axis, level, errors, only_slice)\u001b[0m\n\u001b[0;32m   4828\u001b[0m         new_axis \u001b[38;5;241m=\u001b[39m axis\u001b[38;5;241m.\u001b[39mdrop(labels, level\u001b[38;5;241m=\u001b[39mlevel, errors\u001b[38;5;241m=\u001b[39merrors)\n\u001b[0;32m   4829\u001b[0m     \u001b[38;5;28;01melse\u001b[39;00m:\n\u001b[1;32m-> 4830\u001b[0m         new_axis \u001b[38;5;241m=\u001b[39m \u001b[43maxis\u001b[49m\u001b[38;5;241;43m.\u001b[39;49m\u001b[43mdrop\u001b[49m\u001b[43m(\u001b[49m\u001b[43mlabels\u001b[49m\u001b[43m,\u001b[49m\u001b[43m \u001b[49m\u001b[43merrors\u001b[49m\u001b[38;5;241;43m=\u001b[39;49m\u001b[43merrors\u001b[49m\u001b[43m)\u001b[49m\n\u001b[0;32m   4831\u001b[0m     indexer \u001b[38;5;241m=\u001b[39m axis\u001b[38;5;241m.\u001b[39mget_indexer(new_axis)\n\u001b[0;32m   4833\u001b[0m \u001b[38;5;66;03m# Case for non-unique axis\u001b[39;00m\n\u001b[0;32m   4834\u001b[0m \u001b[38;5;28;01melse\u001b[39;00m:\n",
      "File \u001b[1;32m~\\AppData\\Local\\Programs\\Python\\Python312\\Lib\\site-packages\\pandas\\core\\indexes\\base.py:7070\u001b[0m, in \u001b[0;36mIndex.drop\u001b[1;34m(self, labels, errors)\u001b[0m\n\u001b[0;32m   7068\u001b[0m \u001b[38;5;28;01mif\u001b[39;00m mask\u001b[38;5;241m.\u001b[39many():\n\u001b[0;32m   7069\u001b[0m     \u001b[38;5;28;01mif\u001b[39;00m errors \u001b[38;5;241m!=\u001b[39m \u001b[38;5;124m\"\u001b[39m\u001b[38;5;124mignore\u001b[39m\u001b[38;5;124m\"\u001b[39m:\n\u001b[1;32m-> 7070\u001b[0m         \u001b[38;5;28;01mraise\u001b[39;00m \u001b[38;5;167;01mKeyError\u001b[39;00m(\u001b[38;5;124mf\u001b[39m\u001b[38;5;124m\"\u001b[39m\u001b[38;5;132;01m{\u001b[39;00mlabels[mask]\u001b[38;5;241m.\u001b[39mtolist()\u001b[38;5;132;01m}\u001b[39;00m\u001b[38;5;124m not found in axis\u001b[39m\u001b[38;5;124m\"\u001b[39m)\n\u001b[0;32m   7071\u001b[0m     indexer \u001b[38;5;241m=\u001b[39m indexer[\u001b[38;5;241m~\u001b[39mmask]\n\u001b[0;32m   7072\u001b[0m \u001b[38;5;28;01mreturn\u001b[39;00m \u001b[38;5;28mself\u001b[39m\u001b[38;5;241m.\u001b[39mdelete(indexer)\n",
      "\u001b[1;31mKeyError\u001b[0m: \"['state'] not found in axis\""
     ]
    }
   ],
   "source": [
    "df.drop(['state'],axis=1,inplace=True)"
   ]
  },
  {
   "cell_type": "code",
   "execution_count": 121,
   "id": "c79d88ba-3c0e-4336-bc9e-36cc0b888e68",
   "metadata": {},
   "outputs": [
    {
     "data": {
      "text/html": [
       "<div>\n",
       "<style scoped>\n",
       "    .dataframe tbody tr th:only-of-type {\n",
       "        vertical-align: middle;\n",
       "    }\n",
       "\n",
       "    .dataframe tbody tr th {\n",
       "        vertical-align: top;\n",
       "    }\n",
       "\n",
       "    .dataframe thead th {\n",
       "        text-align: right;\n",
       "    }\n",
       "</style>\n",
       "<table border=\"1\" class=\"dataframe\">\n",
       "  <thead>\n",
       "    <tr style=\"text-align: right;\">\n",
       "      <th></th>\n",
       "      <th>id_new</th>\n",
       "      <th>MOB_DIFF</th>\n",
       "      <th>hour</th>\n",
       "      <th>Enqgrp2</th>\n",
       "      <th>DAY_DIFF</th>\n",
       "      <th>age_band_new</th>\n",
       "      <th>location</th>\n",
       "      <th>cbs_band</th>\n",
       "      <th>Chan</th>\n",
       "      <th>gendr</th>\n",
       "      <th>portf</th>\n",
       "    </tr>\n",
       "  </thead>\n",
       "  <tbody>\n",
       "    <tr>\n",
       "      <th>0</th>\n",
       "      <td>83229</td>\n",
       "      <td>14.0</td>\n",
       "      <td>10</td>\n",
       "      <td>32</td>\n",
       "      <td>27.0</td>\n",
       "      <td>3</td>\n",
       "      <td>2</td>\n",
       "      <td>0</td>\n",
       "      <td>1</td>\n",
       "      <td>0</td>\n",
       "      <td>9</td>\n",
       "    </tr>\n",
       "    <tr>\n",
       "      <th>1</th>\n",
       "      <td>20717</td>\n",
       "      <td>40.0</td>\n",
       "      <td>3</td>\n",
       "      <td>50</td>\n",
       "      <td>71.0</td>\n",
       "      <td>2</td>\n",
       "      <td>2</td>\n",
       "      <td>3</td>\n",
       "      <td>1</td>\n",
       "      <td>1</td>\n",
       "      <td>0</td>\n",
       "    </tr>\n",
       "    <tr>\n",
       "      <th>2</th>\n",
       "      <td>166082</td>\n",
       "      <td>3.0</td>\n",
       "      <td>5</td>\n",
       "      <td>1</td>\n",
       "      <td>3.0</td>\n",
       "      <td>0</td>\n",
       "      <td>3</td>\n",
       "      <td>3</td>\n",
       "      <td>1</td>\n",
       "      <td>0</td>\n",
       "      <td>9</td>\n",
       "    </tr>\n",
       "    <tr>\n",
       "      <th>3</th>\n",
       "      <td>30808</td>\n",
       "      <td>33.0</td>\n",
       "      <td>12</td>\n",
       "      <td>49</td>\n",
       "      <td>103.0</td>\n",
       "      <td>4</td>\n",
       "      <td>3</td>\n",
       "      <td>2</td>\n",
       "      <td>1</td>\n",
       "      <td>0</td>\n",
       "      <td>4</td>\n",
       "    </tr>\n",
       "    <tr>\n",
       "      <th>4</th>\n",
       "      <td>186913</td>\n",
       "      <td>3.0</td>\n",
       "      <td>11</td>\n",
       "      <td>18</td>\n",
       "      <td>52.0</td>\n",
       "      <td>3</td>\n",
       "      <td>2</td>\n",
       "      <td>2</td>\n",
       "      <td>2</td>\n",
       "      <td>1</td>\n",
       "      <td>17</td>\n",
       "    </tr>\n",
       "  </tbody>\n",
       "</table>\n",
       "</div>"
      ],
      "text/plain": [
       "   id_new  MOB_DIFF  hour  Enqgrp2  DAY_DIFF  age_band_new  location  \\\n",
       "0   83229      14.0    10       32      27.0             3         2   \n",
       "1   20717      40.0     3       50      71.0             2         2   \n",
       "2  166082       3.0     5        1       3.0             0         3   \n",
       "3   30808      33.0    12       49     103.0             4         3   \n",
       "4  186913       3.0    11       18      52.0             3         2   \n",
       "\n",
       "   cbs_band  Chan  gendr  portf  \n",
       "0         0     1      0      9  \n",
       "1         3     1      1      0  \n",
       "2         3     1      0      9  \n",
       "3         2     1      0      4  \n",
       "4         2     2      1     17  "
      ]
     },
     "execution_count": 121,
     "metadata": {},
     "output_type": "execute_result"
    }
   ],
   "source": [
    "df.head()"
   ]
  },
  {
   "cell_type": "code",
   "execution_count": 122,
   "id": "e4373bf6-3dd6-4fe8-bb4b-d51672fda2d8",
   "metadata": {},
   "outputs": [
    {
     "ename": "KeyError",
     "evalue": "\"['Unnamed: 0'] not found in axis\"",
     "output_type": "error",
     "traceback": [
      "\u001b[1;31m---------------------------------------------------------------------------\u001b[0m",
      "\u001b[1;31mKeyError\u001b[0m                                  Traceback (most recent call last)",
      "Cell \u001b[1;32mIn[122], line 1\u001b[0m\n\u001b[1;32m----> 1\u001b[0m \u001b[43mdf\u001b[49m\u001b[38;5;241;43m.\u001b[39;49m\u001b[43mdrop\u001b[49m\u001b[43m(\u001b[49m\u001b[43m[\u001b[49m\u001b[38;5;124;43m'\u001b[39;49m\u001b[38;5;124;43mUnnamed: 0\u001b[39;49m\u001b[38;5;124;43m'\u001b[39;49m\u001b[43m]\u001b[49m\u001b[43m,\u001b[49m\u001b[43maxis\u001b[49m\u001b[38;5;241;43m=\u001b[39;49m\u001b[38;5;241;43m1\u001b[39;49m\u001b[43m,\u001b[49m\u001b[43minplace\u001b[49m\u001b[38;5;241;43m=\u001b[39;49m\u001b[38;5;28;43;01mTrue\u001b[39;49;00m\u001b[43m)\u001b[49m\n",
      "File \u001b[1;32m~\\AppData\\Local\\Programs\\Python\\Python312\\Lib\\site-packages\\pandas\\core\\frame.py:5581\u001b[0m, in \u001b[0;36mDataFrame.drop\u001b[1;34m(self, labels, axis, index, columns, level, inplace, errors)\u001b[0m\n\u001b[0;32m   5433\u001b[0m \u001b[38;5;28;01mdef\u001b[39;00m \u001b[38;5;21mdrop\u001b[39m(\n\u001b[0;32m   5434\u001b[0m     \u001b[38;5;28mself\u001b[39m,\n\u001b[0;32m   5435\u001b[0m     labels: IndexLabel \u001b[38;5;241m|\u001b[39m \u001b[38;5;28;01mNone\u001b[39;00m \u001b[38;5;241m=\u001b[39m \u001b[38;5;28;01mNone\u001b[39;00m,\n\u001b[1;32m   (...)\u001b[0m\n\u001b[0;32m   5442\u001b[0m     errors: IgnoreRaise \u001b[38;5;241m=\u001b[39m \u001b[38;5;124m\"\u001b[39m\u001b[38;5;124mraise\u001b[39m\u001b[38;5;124m\"\u001b[39m,\n\u001b[0;32m   5443\u001b[0m ) \u001b[38;5;241m-\u001b[39m\u001b[38;5;241m>\u001b[39m DataFrame \u001b[38;5;241m|\u001b[39m \u001b[38;5;28;01mNone\u001b[39;00m:\n\u001b[0;32m   5444\u001b[0m \u001b[38;5;250m    \u001b[39m\u001b[38;5;124;03m\"\"\"\u001b[39;00m\n\u001b[0;32m   5445\u001b[0m \u001b[38;5;124;03m    Drop specified labels from rows or columns.\u001b[39;00m\n\u001b[0;32m   5446\u001b[0m \n\u001b[1;32m   (...)\u001b[0m\n\u001b[0;32m   5579\u001b[0m \u001b[38;5;124;03m            weight  1.0     0.8\u001b[39;00m\n\u001b[0;32m   5580\u001b[0m \u001b[38;5;124;03m    \"\"\"\u001b[39;00m\n\u001b[1;32m-> 5581\u001b[0m     \u001b[38;5;28;01mreturn\u001b[39;00m \u001b[38;5;28;43msuper\u001b[39;49m\u001b[43m(\u001b[49m\u001b[43m)\u001b[49m\u001b[38;5;241;43m.\u001b[39;49m\u001b[43mdrop\u001b[49m\u001b[43m(\u001b[49m\n\u001b[0;32m   5582\u001b[0m \u001b[43m        \u001b[49m\u001b[43mlabels\u001b[49m\u001b[38;5;241;43m=\u001b[39;49m\u001b[43mlabels\u001b[49m\u001b[43m,\u001b[49m\n\u001b[0;32m   5583\u001b[0m \u001b[43m        \u001b[49m\u001b[43maxis\u001b[49m\u001b[38;5;241;43m=\u001b[39;49m\u001b[43maxis\u001b[49m\u001b[43m,\u001b[49m\n\u001b[0;32m   5584\u001b[0m \u001b[43m        \u001b[49m\u001b[43mindex\u001b[49m\u001b[38;5;241;43m=\u001b[39;49m\u001b[43mindex\u001b[49m\u001b[43m,\u001b[49m\n\u001b[0;32m   5585\u001b[0m \u001b[43m        \u001b[49m\u001b[43mcolumns\u001b[49m\u001b[38;5;241;43m=\u001b[39;49m\u001b[43mcolumns\u001b[49m\u001b[43m,\u001b[49m\n\u001b[0;32m   5586\u001b[0m \u001b[43m        \u001b[49m\u001b[43mlevel\u001b[49m\u001b[38;5;241;43m=\u001b[39;49m\u001b[43mlevel\u001b[49m\u001b[43m,\u001b[49m\n\u001b[0;32m   5587\u001b[0m \u001b[43m        \u001b[49m\u001b[43minplace\u001b[49m\u001b[38;5;241;43m=\u001b[39;49m\u001b[43minplace\u001b[49m\u001b[43m,\u001b[49m\n\u001b[0;32m   5588\u001b[0m \u001b[43m        \u001b[49m\u001b[43merrors\u001b[49m\u001b[38;5;241;43m=\u001b[39;49m\u001b[43merrors\u001b[49m\u001b[43m,\u001b[49m\n\u001b[0;32m   5589\u001b[0m \u001b[43m    \u001b[49m\u001b[43m)\u001b[49m\n",
      "File \u001b[1;32m~\\AppData\\Local\\Programs\\Python\\Python312\\Lib\\site-packages\\pandas\\core\\generic.py:4788\u001b[0m, in \u001b[0;36mNDFrame.drop\u001b[1;34m(self, labels, axis, index, columns, level, inplace, errors)\u001b[0m\n\u001b[0;32m   4786\u001b[0m \u001b[38;5;28;01mfor\u001b[39;00m axis, labels \u001b[38;5;129;01min\u001b[39;00m axes\u001b[38;5;241m.\u001b[39mitems():\n\u001b[0;32m   4787\u001b[0m     \u001b[38;5;28;01mif\u001b[39;00m labels \u001b[38;5;129;01mis\u001b[39;00m \u001b[38;5;129;01mnot\u001b[39;00m \u001b[38;5;28;01mNone\u001b[39;00m:\n\u001b[1;32m-> 4788\u001b[0m         obj \u001b[38;5;241m=\u001b[39m \u001b[43mobj\u001b[49m\u001b[38;5;241;43m.\u001b[39;49m\u001b[43m_drop_axis\u001b[49m\u001b[43m(\u001b[49m\u001b[43mlabels\u001b[49m\u001b[43m,\u001b[49m\u001b[43m \u001b[49m\u001b[43maxis\u001b[49m\u001b[43m,\u001b[49m\u001b[43m \u001b[49m\u001b[43mlevel\u001b[49m\u001b[38;5;241;43m=\u001b[39;49m\u001b[43mlevel\u001b[49m\u001b[43m,\u001b[49m\u001b[43m \u001b[49m\u001b[43merrors\u001b[49m\u001b[38;5;241;43m=\u001b[39;49m\u001b[43merrors\u001b[49m\u001b[43m)\u001b[49m\n\u001b[0;32m   4790\u001b[0m \u001b[38;5;28;01mif\u001b[39;00m inplace:\n\u001b[0;32m   4791\u001b[0m     \u001b[38;5;28mself\u001b[39m\u001b[38;5;241m.\u001b[39m_update_inplace(obj)\n",
      "File \u001b[1;32m~\\AppData\\Local\\Programs\\Python\\Python312\\Lib\\site-packages\\pandas\\core\\generic.py:4830\u001b[0m, in \u001b[0;36mNDFrame._drop_axis\u001b[1;34m(self, labels, axis, level, errors, only_slice)\u001b[0m\n\u001b[0;32m   4828\u001b[0m         new_axis \u001b[38;5;241m=\u001b[39m axis\u001b[38;5;241m.\u001b[39mdrop(labels, level\u001b[38;5;241m=\u001b[39mlevel, errors\u001b[38;5;241m=\u001b[39merrors)\n\u001b[0;32m   4829\u001b[0m     \u001b[38;5;28;01melse\u001b[39;00m:\n\u001b[1;32m-> 4830\u001b[0m         new_axis \u001b[38;5;241m=\u001b[39m \u001b[43maxis\u001b[49m\u001b[38;5;241;43m.\u001b[39;49m\u001b[43mdrop\u001b[49m\u001b[43m(\u001b[49m\u001b[43mlabels\u001b[49m\u001b[43m,\u001b[49m\u001b[43m \u001b[49m\u001b[43merrors\u001b[49m\u001b[38;5;241;43m=\u001b[39;49m\u001b[43merrors\u001b[49m\u001b[43m)\u001b[49m\n\u001b[0;32m   4831\u001b[0m     indexer \u001b[38;5;241m=\u001b[39m axis\u001b[38;5;241m.\u001b[39mget_indexer(new_axis)\n\u001b[0;32m   4833\u001b[0m \u001b[38;5;66;03m# Case for non-unique axis\u001b[39;00m\n\u001b[0;32m   4834\u001b[0m \u001b[38;5;28;01melse\u001b[39;00m:\n",
      "File \u001b[1;32m~\\AppData\\Local\\Programs\\Python\\Python312\\Lib\\site-packages\\pandas\\core\\indexes\\base.py:7070\u001b[0m, in \u001b[0;36mIndex.drop\u001b[1;34m(self, labels, errors)\u001b[0m\n\u001b[0;32m   7068\u001b[0m \u001b[38;5;28;01mif\u001b[39;00m mask\u001b[38;5;241m.\u001b[39many():\n\u001b[0;32m   7069\u001b[0m     \u001b[38;5;28;01mif\u001b[39;00m errors \u001b[38;5;241m!=\u001b[39m \u001b[38;5;124m\"\u001b[39m\u001b[38;5;124mignore\u001b[39m\u001b[38;5;124m\"\u001b[39m:\n\u001b[1;32m-> 7070\u001b[0m         \u001b[38;5;28;01mraise\u001b[39;00m \u001b[38;5;167;01mKeyError\u001b[39;00m(\u001b[38;5;124mf\u001b[39m\u001b[38;5;124m\"\u001b[39m\u001b[38;5;132;01m{\u001b[39;00mlabels[mask]\u001b[38;5;241m.\u001b[39mtolist()\u001b[38;5;132;01m}\u001b[39;00m\u001b[38;5;124m not found in axis\u001b[39m\u001b[38;5;124m\"\u001b[39m)\n\u001b[0;32m   7071\u001b[0m     indexer \u001b[38;5;241m=\u001b[39m indexer[\u001b[38;5;241m~\u001b[39mmask]\n\u001b[0;32m   7072\u001b[0m \u001b[38;5;28;01mreturn\u001b[39;00m \u001b[38;5;28mself\u001b[39m\u001b[38;5;241m.\u001b[39mdelete(indexer)\n",
      "\u001b[1;31mKeyError\u001b[0m: \"['Unnamed: 0'] not found in axis\""
     ]
    }
   ],
   "source": [
    "df.drop(['Unnamed: 0'],axis=1,inplace=True)"
   ]
  },
  {
   "cell_type": "code",
   "execution_count": null,
   "id": "9d8b96e8-df20-40ec-bb01-aa2336891073",
   "metadata": {},
   "outputs": [],
   "source": []
  },
  {
   "cell_type": "code",
   "execution_count": 123,
   "id": "0db5bfd8-fe3a-4ec0-a363-5e756c004f20",
   "metadata": {},
   "outputs": [
    {
     "data": {
      "text/html": [
       "<div>\n",
       "<style scoped>\n",
       "    .dataframe tbody tr th:only-of-type {\n",
       "        vertical-align: middle;\n",
       "    }\n",
       "\n",
       "    .dataframe tbody tr th {\n",
       "        vertical-align: top;\n",
       "    }\n",
       "\n",
       "    .dataframe thead th {\n",
       "        text-align: right;\n",
       "    }\n",
       "</style>\n",
       "<table border=\"1\" class=\"dataframe\">\n",
       "  <thead>\n",
       "    <tr style=\"text-align: right;\">\n",
       "      <th></th>\n",
       "      <th>id_new</th>\n",
       "      <th>MOB_DIFF</th>\n",
       "      <th>hour</th>\n",
       "      <th>Enqgrp2</th>\n",
       "      <th>DAY_DIFF</th>\n",
       "      <th>age_band_new</th>\n",
       "      <th>location</th>\n",
       "      <th>cbs_band</th>\n",
       "      <th>Chan</th>\n",
       "      <th>gendr</th>\n",
       "      <th>portf</th>\n",
       "    </tr>\n",
       "  </thead>\n",
       "  <tbody>\n",
       "    <tr>\n",
       "      <th>0</th>\n",
       "      <td>83229</td>\n",
       "      <td>14.0</td>\n",
       "      <td>10</td>\n",
       "      <td>32</td>\n",
       "      <td>27.0</td>\n",
       "      <td>3</td>\n",
       "      <td>2</td>\n",
       "      <td>0</td>\n",
       "      <td>1</td>\n",
       "      <td>0</td>\n",
       "      <td>9</td>\n",
       "    </tr>\n",
       "    <tr>\n",
       "      <th>1</th>\n",
       "      <td>20717</td>\n",
       "      <td>40.0</td>\n",
       "      <td>3</td>\n",
       "      <td>50</td>\n",
       "      <td>71.0</td>\n",
       "      <td>2</td>\n",
       "      <td>2</td>\n",
       "      <td>3</td>\n",
       "      <td>1</td>\n",
       "      <td>1</td>\n",
       "      <td>0</td>\n",
       "    </tr>\n",
       "    <tr>\n",
       "      <th>2</th>\n",
       "      <td>166082</td>\n",
       "      <td>3.0</td>\n",
       "      <td>5</td>\n",
       "      <td>1</td>\n",
       "      <td>3.0</td>\n",
       "      <td>0</td>\n",
       "      <td>3</td>\n",
       "      <td>3</td>\n",
       "      <td>1</td>\n",
       "      <td>0</td>\n",
       "      <td>9</td>\n",
       "    </tr>\n",
       "    <tr>\n",
       "      <th>3</th>\n",
       "      <td>30808</td>\n",
       "      <td>33.0</td>\n",
       "      <td>12</td>\n",
       "      <td>49</td>\n",
       "      <td>103.0</td>\n",
       "      <td>4</td>\n",
       "      <td>3</td>\n",
       "      <td>2</td>\n",
       "      <td>1</td>\n",
       "      <td>0</td>\n",
       "      <td>4</td>\n",
       "    </tr>\n",
       "    <tr>\n",
       "      <th>4</th>\n",
       "      <td>186913</td>\n",
       "      <td>3.0</td>\n",
       "      <td>11</td>\n",
       "      <td>18</td>\n",
       "      <td>52.0</td>\n",
       "      <td>3</td>\n",
       "      <td>2</td>\n",
       "      <td>2</td>\n",
       "      <td>2</td>\n",
       "      <td>1</td>\n",
       "      <td>17</td>\n",
       "    </tr>\n",
       "  </tbody>\n",
       "</table>\n",
       "</div>"
      ],
      "text/plain": [
       "   id_new  MOB_DIFF  hour  Enqgrp2  DAY_DIFF  age_band_new  location  \\\n",
       "0   83229      14.0    10       32      27.0             3         2   \n",
       "1   20717      40.0     3       50      71.0             2         2   \n",
       "2  166082       3.0     5        1       3.0             0         3   \n",
       "3   30808      33.0    12       49     103.0             4         3   \n",
       "4  186913       3.0    11       18      52.0             3         2   \n",
       "\n",
       "   cbs_band  Chan  gendr  portf  \n",
       "0         0     1      0      9  \n",
       "1         3     1      1      0  \n",
       "2         3     1      0      9  \n",
       "3         2     1      0      4  \n",
       "4         2     2      1     17  "
      ]
     },
     "execution_count": 123,
     "metadata": {},
     "output_type": "execute_result"
    }
   ],
   "source": [
    "df.head()"
   ]
  },
  {
   "cell_type": "code",
   "execution_count": 124,
   "id": "ff5a6b1b-e321-48fa-b072-a97dee73bc78",
   "metadata": {},
   "outputs": [
    {
     "data": {
      "text/plain": [
       "array([0, 3, 2, 4, 5, 1])"
      ]
     },
     "execution_count": 124,
     "metadata": {},
     "output_type": "execute_result"
    }
   ],
   "source": [
    "df['cbs_band'].unique()"
   ]
  },
  {
   "cell_type": "code",
   "execution_count": 125,
   "id": "0b47c14b-08c0-42c4-8cd4-475c6388e82d",
   "metadata": {},
   "outputs": [
    {
     "data": {
      "text/plain": [
       "array([0, 1])"
      ]
     },
     "execution_count": 125,
     "metadata": {},
     "output_type": "execute_result"
    }
   ],
   "source": [
    "df['gendr'].unique()"
   ]
  },
  {
   "cell_type": "code",
   "execution_count": 126,
   "id": "14f796f7-7419-43a7-93c0-b9189776b51b",
   "metadata": {},
   "outputs": [
    {
     "data": {
      "text/plain": [
       "array([ 9,  0,  4, 17, 19,  1,  3, 16, 18, 11, 10,  6, 21, 13,  8, 22, 14,\n",
       "        5,  2, 26, 24, 20, 15, 27, 12,  7, 23, 25, 28])"
      ]
     },
     "execution_count": 126,
     "metadata": {},
     "output_type": "execute_result"
    }
   ],
   "source": [
    "df['portf'].unique()"
   ]
  },
  {
   "cell_type": "code",
   "execution_count": 127,
   "id": "71ac9909-2c50-47be-8047-d31409c12715",
   "metadata": {},
   "outputs": [
    {
     "data": {
      "text/plain": [
       "np.float64(0.14779919500417305)"
      ]
     },
     "execution_count": 127,
     "metadata": {},
     "output_type": "execute_result"
    }
   ],
   "source": [
    "df['portf'].corr(df['Chan'])"
   ]
  },
  {
   "cell_type": "code",
   "execution_count": 128,
   "id": "4a4a83bd-b712-4188-9674-0d93051eb926",
   "metadata": {},
   "outputs": [
    {
     "data": {
      "text/plain": [
       "np.float64(0.30386865213574027)"
      ]
     },
     "execution_count": 128,
     "metadata": {},
     "output_type": "execute_result"
    }
   ],
   "source": [
    "df['hour'].corr(df['Chan'])"
   ]
  },
  {
   "cell_type": "markdown",
   "id": "2c3fe1c7-a891-4d6f-9bab-a0e4b210793b",
   "metadata": {},
   "source": [
    "# Relationship between Hour and channel is moderately positive correlation"
   ]
  },
  {
   "cell_type": "code",
   "execution_count": 129,
   "id": "98fcf1ef-b833-4bc5-bfe4-c385de41efe6",
   "metadata": {},
   "outputs": [],
   "source": [
    "sorted=df['hour'].unique()"
   ]
  },
  {
   "cell_type": "code",
   "execution_count": 130,
   "id": "fb63997f-e763-48ee-b003-63647f5ea5b4",
   "metadata": {},
   "outputs": [],
   "source": [
    "sorted.sort()"
   ]
  },
  {
   "cell_type": "code",
   "execution_count": 131,
   "id": "d3a7002a-abe8-4b18-93ec-b4d9b82f35c8",
   "metadata": {},
   "outputs": [
    {
     "data": {
      "text/plain": [
       "array([ 0,  1,  2,  3,  4,  5,  6,  7,  8,  9, 10, 11, 12, 13, 14, 15, 16,\n",
       "       17, 18, 19, 20, 21, 22, 23])"
      ]
     },
     "execution_count": 131,
     "metadata": {},
     "output_type": "execute_result"
    }
   ],
   "source": [
    "sorted"
   ]
  },
  {
   "cell_type": "code",
   "execution_count": 132,
   "id": "4ee376f9-1b82-45c2-a841-2212074943f7",
   "metadata": {},
   "outputs": [
    {
     "data": {
      "text/plain": [
       "<Axes: xlabel='Chan', ylabel='hour'>"
      ]
     },
     "execution_count": 132,
     "metadata": {},
     "output_type": "execute_result"
    },
    {
     "data": {
      "image/png": "[encoded data removed]",
      "text/plain": [
       "<Figure size 640x480 with 1 Axes>"
      ]
     },
     "metadata": {},
     "output_type": "display_data"
    }
   ],
   "source": [
    "sns.barplot(x='Chan', y='hour', data=df)"
   ]
  },
  {
   "cell_type": "code",
   "execution_count": 133,
   "id": "acaa02e3-e2e2-4cd7-8bb7-33186afbd671",
   "metadata": {},
   "outputs": [
    {
     "data": {
      "text/plain": [
       "<Axes: xlabel='hour', ylabel='DAY_DIFF'>"
      ]
     },
     "execution_count": 133,
     "metadata": {},
     "output_type": "execute_result"
    },
    {
     "data": {
      "image/png": "[encoded data removed]",
      "text/plain": [
       "<Figure size 640x480 with 1 Axes>"
      ]
     },
     "metadata": {},
     "output_type": "display_data"
    }
   ],
   "source": [
    "sns.barplot(x='hour',y='DAY_DIFF',hue='Chan',data=df)"
   ]
  },
  {
   "cell_type": "code",
   "execution_count": 134,
   "id": "bb7bd4b3-2aa0-4679-a543-222c21b96e7a",
   "metadata": {},
   "outputs": [
    {
     "data": {
      "text/plain": [
       "276965"
      ]
     },
     "execution_count": 134,
     "metadata": {},
     "output_type": "execute_result"
    }
   ],
   "source": [
    "df['id_new'].nunique()"
   ]
  },
  {
   "cell_type": "code",
   "execution_count": 135,
   "id": "61619127-2c89-4f16-99ad-135c6e113f64",
   "metadata": {},
   "outputs": [
    {
     "data": {
      "text/plain": [
       "id_new\n",
       "204055    243\n",
       "40199     225\n",
       "75699     202\n",
       "3288      192\n",
       "107637    187\n",
       "         ... \n",
       "266000      1\n",
       "249325      1\n",
       "65840       1\n",
       "156476      1\n",
       "126204      1\n",
       "Name: count, Length: 276965, dtype: int64"
      ]
     },
     "execution_count": 135,
     "metadata": {},
     "output_type": "execute_result"
    }
   ],
   "source": [
    "df['id_new'].value_counts()"
   ]
  },
  {
   "cell_type": "code",
   "execution_count": null,
   "id": "9ee7ebb3-20f2-49d6-bb0c-c904cd26cb07",
   "metadata": {},
   "outputs": [],
   "source": []
  },
  {
   "cell_type": "code",
   "execution_count": 214,
   "id": "6b648543-6598-4445-899b-630ce82142f3",
   "metadata": {},
   "outputs": [
    {
     "data": {
      "text/html": [
       "<div>\n",
       "<style scoped>\n",
       "    .dataframe tbody tr th:only-of-type {\n",
       "        vertical-align: middle;\n",
       "    }\n",
       "\n",
       "    .dataframe tbody tr th {\n",
       "        vertical-align: top;\n",
       "    }\n",
       "\n",
       "    .dataframe thead th {\n",
       "        text-align: right;\n",
       "    }\n",
       "</style>\n",
       "<table border=\"1\" class=\"dataframe\">\n",
       "  <thead>\n",
       "    <tr style=\"text-align: right;\">\n",
       "      <th></th>\n",
       "      <th>id_new</th>\n",
       "      <th>MOB_DIFF</th>\n",
       "      <th>hour</th>\n",
       "      <th>Enqgrp2</th>\n",
       "      <th>DAY_DIFF</th>\n",
       "      <th>age_band_new</th>\n",
       "      <th>location</th>\n",
       "      <th>cbs_band</th>\n",
       "      <th>Chan</th>\n",
       "      <th>gendr</th>\n",
       "      <th>portf</th>\n",
       "    </tr>\n",
       "  </thead>\n",
       "  <tbody>\n",
       "    <tr>\n",
       "      <th>0</th>\n",
       "      <td>83229</td>\n",
       "      <td>14.0</td>\n",
       "      <td>10</td>\n",
       "      <td>32</td>\n",
       "      <td>27.0</td>\n",
       "      <td>3</td>\n",
       "      <td>2</td>\n",
       "      <td>0</td>\n",
       "      <td>1</td>\n",
       "      <td>0</td>\n",
       "      <td>9</td>\n",
       "    </tr>\n",
       "    <tr>\n",
       "      <th>1</th>\n",
       "      <td>20717</td>\n",
       "      <td>40.0</td>\n",
       "      <td>3</td>\n",
       "      <td>50</td>\n",
       "      <td>71.0</td>\n",
       "      <td>2</td>\n",
       "      <td>2</td>\n",
       "      <td>3</td>\n",
       "      <td>1</td>\n",
       "      <td>1</td>\n",
       "      <td>0</td>\n",
       "    </tr>\n",
       "    <tr>\n",
       "      <th>2</th>\n",
       "      <td>166082</td>\n",
       "      <td>3.0</td>\n",
       "      <td>5</td>\n",
       "      <td>1</td>\n",
       "      <td>3.0</td>\n",
       "      <td>0</td>\n",
       "      <td>3</td>\n",
       "      <td>3</td>\n",
       "      <td>1</td>\n",
       "      <td>0</td>\n",
       "      <td>9</td>\n",
       "    </tr>\n",
       "    <tr>\n",
       "      <th>3</th>\n",
       "      <td>30808</td>\n",
       "      <td>33.0</td>\n",
       "      <td>12</td>\n",
       "      <td>49</td>\n",
       "      <td>103.0</td>\n",
       "      <td>4</td>\n",
       "      <td>3</td>\n",
       "      <td>2</td>\n",
       "      <td>1</td>\n",
       "      <td>0</td>\n",
       "      <td>4</td>\n",
       "    </tr>\n",
       "    <tr>\n",
       "      <th>4</th>\n",
       "      <td>186913</td>\n",
       "      <td>3.0</td>\n",
       "      <td>11</td>\n",
       "      <td>18</td>\n",
       "      <td>52.0</td>\n",
       "      <td>3</td>\n",
       "      <td>2</td>\n",
       "      <td>2</td>\n",
       "      <td>2</td>\n",
       "      <td>1</td>\n",
       "      <td>17</td>\n",
       "    </tr>\n",
       "    <tr>\n",
       "      <th>5</th>\n",
       "      <td>62450</td>\n",
       "      <td>18.0</td>\n",
       "      <td>7</td>\n",
       "      <td>32</td>\n",
       "      <td>73.0</td>\n",
       "      <td>4</td>\n",
       "      <td>2</td>\n",
       "      <td>0</td>\n",
       "      <td>1</td>\n",
       "      <td>0</td>\n",
       "      <td>4</td>\n",
       "    </tr>\n",
       "    <tr>\n",
       "      <th>6</th>\n",
       "      <td>276048</td>\n",
       "      <td>-6.0</td>\n",
       "      <td>7</td>\n",
       "      <td>55</td>\n",
       "      <td>180.0</td>\n",
       "      <td>0</td>\n",
       "      <td>2</td>\n",
       "      <td>0</td>\n",
       "      <td>1</td>\n",
       "      <td>0</td>\n",
       "      <td>9</td>\n",
       "    </tr>\n",
       "    <tr>\n",
       "      <th>7</th>\n",
       "      <td>29981</td>\n",
       "      <td>25.0</td>\n",
       "      <td>14</td>\n",
       "      <td>18</td>\n",
       "      <td>116.0</td>\n",
       "      <td>0</td>\n",
       "      <td>4</td>\n",
       "      <td>4</td>\n",
       "      <td>2</td>\n",
       "      <td>0</td>\n",
       "      <td>9</td>\n",
       "    </tr>\n",
       "    <tr>\n",
       "      <th>8</th>\n",
       "      <td>170763</td>\n",
       "      <td>0.0</td>\n",
       "      <td>7</td>\n",
       "      <td>55</td>\n",
       "      <td>63.0</td>\n",
       "      <td>0</td>\n",
       "      <td>2</td>\n",
       "      <td>0</td>\n",
       "      <td>1</td>\n",
       "      <td>0</td>\n",
       "      <td>9</td>\n",
       "    </tr>\n",
       "    <tr>\n",
       "      <th>9</th>\n",
       "      <td>235008</td>\n",
       "      <td>-0.0</td>\n",
       "      <td>11</td>\n",
       "      <td>1</td>\n",
       "      <td>12.0</td>\n",
       "      <td>1</td>\n",
       "      <td>1</td>\n",
       "      <td>0</td>\n",
       "      <td>1</td>\n",
       "      <td>0</td>\n",
       "      <td>0</td>\n",
       "    </tr>\n",
       "    <tr>\n",
       "      <th>10</th>\n",
       "      <td>250106</td>\n",
       "      <td>-3.0</td>\n",
       "      <td>17</td>\n",
       "      <td>18</td>\n",
       "      <td>108.0</td>\n",
       "      <td>0</td>\n",
       "      <td>4</td>\n",
       "      <td>0</td>\n",
       "      <td>2</td>\n",
       "      <td>1</td>\n",
       "      <td>4</td>\n",
       "    </tr>\n",
       "    <tr>\n",
       "      <th>11</th>\n",
       "      <td>49002</td>\n",
       "      <td>18.0</td>\n",
       "      <td>7</td>\n",
       "      <td>32</td>\n",
       "      <td>46.0</td>\n",
       "      <td>2</td>\n",
       "      <td>2</td>\n",
       "      <td>0</td>\n",
       "      <td>1</td>\n",
       "      <td>1</td>\n",
       "      <td>9</td>\n",
       "    </tr>\n",
       "    <tr>\n",
       "      <th>12</th>\n",
       "      <td>113589</td>\n",
       "      <td>7.0</td>\n",
       "      <td>9</td>\n",
       "      <td>55</td>\n",
       "      <td>78.0</td>\n",
       "      <td>0</td>\n",
       "      <td>2</td>\n",
       "      <td>4</td>\n",
       "      <td>0</td>\n",
       "      <td>0</td>\n",
       "      <td>17</td>\n",
       "    </tr>\n",
       "    <tr>\n",
       "      <th>13</th>\n",
       "      <td>68512</td>\n",
       "      <td>15.0</td>\n",
       "      <td>14</td>\n",
       "      <td>62</td>\n",
       "      <td>65.0</td>\n",
       "      <td>0</td>\n",
       "      <td>1</td>\n",
       "      <td>3</td>\n",
       "      <td>1</td>\n",
       "      <td>0</td>\n",
       "      <td>0</td>\n",
       "    </tr>\n",
       "    <tr>\n",
       "      <th>14</th>\n",
       "      <td>272575</td>\n",
       "      <td>-3.0</td>\n",
       "      <td>14</td>\n",
       "      <td>25</td>\n",
       "      <td>167.0</td>\n",
       "      <td>3</td>\n",
       "      <td>1</td>\n",
       "      <td>2</td>\n",
       "      <td>2</td>\n",
       "      <td>1</td>\n",
       "      <td>17</td>\n",
       "    </tr>\n",
       "    <tr>\n",
       "      <th>15</th>\n",
       "      <td>123188</td>\n",
       "      <td>10.0</td>\n",
       "      <td>9</td>\n",
       "      <td>1</td>\n",
       "      <td>87.0</td>\n",
       "      <td>3</td>\n",
       "      <td>2</td>\n",
       "      <td>0</td>\n",
       "      <td>1</td>\n",
       "      <td>0</td>\n",
       "      <td>17</td>\n",
       "    </tr>\n",
       "    <tr>\n",
       "      <th>16</th>\n",
       "      <td>141177</td>\n",
       "      <td>1.0</td>\n",
       "      <td>8</td>\n",
       "      <td>32</td>\n",
       "      <td>152.0</td>\n",
       "      <td>0</td>\n",
       "      <td>2</td>\n",
       "      <td>3</td>\n",
       "      <td>1</td>\n",
       "      <td>0</td>\n",
       "      <td>9</td>\n",
       "    </tr>\n",
       "    <tr>\n",
       "      <th>17</th>\n",
       "      <td>216965</td>\n",
       "      <td>1.0</td>\n",
       "      <td>11</td>\n",
       "      <td>25</td>\n",
       "      <td>85.0</td>\n",
       "      <td>0</td>\n",
       "      <td>2</td>\n",
       "      <td>0</td>\n",
       "      <td>2</td>\n",
       "      <td>0</td>\n",
       "      <td>17</td>\n",
       "    </tr>\n",
       "    <tr>\n",
       "      <th>18</th>\n",
       "      <td>188802</td>\n",
       "      <td>3.0</td>\n",
       "      <td>10</td>\n",
       "      <td>55</td>\n",
       "      <td>36.0</td>\n",
       "      <td>3</td>\n",
       "      <td>2</td>\n",
       "      <td>3</td>\n",
       "      <td>1</td>\n",
       "      <td>0</td>\n",
       "      <td>9</td>\n",
       "    </tr>\n",
       "    <tr>\n",
       "      <th>19</th>\n",
       "      <td>169164</td>\n",
       "      <td>3.0</td>\n",
       "      <td>6</td>\n",
       "      <td>49</td>\n",
       "      <td>154.0</td>\n",
       "      <td>3</td>\n",
       "      <td>1</td>\n",
       "      <td>0</td>\n",
       "      <td>1</td>\n",
       "      <td>0</td>\n",
       "      <td>0</td>\n",
       "    </tr>\n",
       "  </tbody>\n",
       "</table>\n",
       "</div>"
      ],
      "text/plain": [
       "    id_new  MOB_DIFF  hour  Enqgrp2  DAY_DIFF  age_band_new  location  \\\n",
       "0    83229      14.0    10       32      27.0             3         2   \n",
       "1    20717      40.0     3       50      71.0             2         2   \n",
       "2   166082       3.0     5        1       3.0             0         3   \n",
       "3    30808      33.0    12       49     103.0             4         3   \n",
       "4   186913       3.0    11       18      52.0             3         2   \n",
       "5    62450      18.0     7       32      73.0             4         2   \n",
       "6   276048      -6.0     7       55     180.0             0         2   \n",
       "7    29981      25.0    14       18     116.0             0         4   \n",
       "8   170763       0.0     7       55      63.0             0         2   \n",
       "9   235008      -0.0    11        1      12.0             1         1   \n",
       "10  250106      -3.0    17       18     108.0             0         4   \n",
       "11   49002      18.0     7       32      46.0             2         2   \n",
       "12  113589       7.0     9       55      78.0             0         2   \n",
       "13   68512      15.0    14       62      65.0             0         1   \n",
       "14  272575      -3.0    14       25     167.0             3         1   \n",
       "15  123188      10.0     9        1      87.0             3         2   \n",
       "16  141177       1.0     8       32     152.0             0         2   \n",
       "17  216965       1.0    11       25      85.0             0         2   \n",
       "18  188802       3.0    10       55      36.0             3         2   \n",
       "19  169164       3.0     6       49     154.0             3         1   \n",
       "\n",
       "    cbs_band  Chan  gendr  portf  \n",
       "0          0     1      0      9  \n",
       "1          3     1      1      0  \n",
       "2          3     1      0      9  \n",
       "3          2     1      0      4  \n",
       "4          2     2      1     17  \n",
       "5          0     1      0      4  \n",
       "6          0     1      0      9  \n",
       "7          4     2      0      9  \n",
       "8          0     1      0      9  \n",
       "9          0     1      0      0  \n",
       "10         0     2      1      4  \n",
       "11         0     1      1      9  \n",
       "12         4     0      0     17  \n",
       "13         3     1      0      0  \n",
       "14         2     2      1     17  \n",
       "15         0     1      0     17  \n",
       "16         3     1      0      9  \n",
       "17         0     2      0     17  \n",
       "18         3     1      0      9  \n",
       "19         0     1      0      0  "
      ]
     },
     "execution_count": 214,
     "metadata": {},
     "output_type": "execute_result"
    }
   ],
   "source": [
    "df.head(20)"
   ]
  },
  {
   "cell_type": "code",
   "execution_count": 189,
   "id": "e4fe4a95-44db-4fcd-846f-3f42f45a8efa",
   "metadata": {},
   "outputs": [],
   "source": [
    " enq_val=df['Enqgrp2'].value_counts()"
   ]
  },
  {
   "cell_type": "markdown",
   "id": "3f7c7ce9-642e-46c8-ab86-142fd7c22570",
   "metadata": {},
   "source": [
    "## Enquiry issue is the biggest issue among the customers"
   ]
  },
  {
   "cell_type": "code",
   "execution_count": 190,
   "id": "800c9685-7714-4a2c-aaa1-47c676c4b16a",
   "metadata": {},
   "outputs": [
    {
     "data": {
      "text/plain": [
       "Enqgrp2\n",
       "32    178902\n",
       "1     110662\n",
       "18    100862\n",
       "55     57771\n",
       "49     43145\n",
       "       ...  \n",
       "61         5\n",
       "3          2\n",
       "24         2\n",
       "54         1\n",
       "26         1\n",
       "Name: count, Length: 74, dtype: int64"
      ]
     },
     "execution_count": 190,
     "metadata": {},
     "output_type": "execute_result"
    }
   ],
   "source": [
    "enq_val"
   ]
  },
  {
   "cell_type": "code",
   "execution_count": 140,
   "id": "a7431bd8-0939-4ae0-adc8-d9ebe204cefe",
   "metadata": {},
   "outputs": [],
   "source": [
    "cha_val=df['Chan'].value_counts().values"
   ]
  },
  {
   "cell_type": "code",
   "execution_count": 141,
   "id": "fb1215c2-e4f5-4563-b396-316a6a8e0c78",
   "metadata": {},
   "outputs": [
    {
     "data": {
      "text/plain": [
       "array([617308, 243087, 139604])"
      ]
     },
     "execution_count": 141,
     "metadata": {},
     "output_type": "execute_result"
    }
   ],
   "source": [
    "cha_val"
   ]
  },
  {
   "cell_type": "code",
   "execution_count": 186,
   "id": "b5e7d3e2-3c40-43d2-bcbf-a83752c6372a",
   "metadata": {},
   "outputs": [
    {
     "data": {
      "text/plain": [
       "array([1, 2, 0])"
      ]
     },
     "execution_count": 186,
     "metadata": {},
     "output_type": "execute_result"
    }
   ],
   "source": [
    "df['Chan'].unique()"
   ]
  },
  {
   "cell_type": "markdown",
   "id": "783bdf47-8864-46b2-b8b3-ede5bd50a529",
   "metadata": {},
   "source": [
    "## Channel 1 is the most used way"
   ]
  },
  {
   "cell_type": "code",
   "execution_count": 142,
   "id": "96374d8e-7906-4412-9e24-59d5a31bc852",
   "metadata": {},
   "outputs": [
    {
     "name": "stdout",
     "output_type": "stream",
     "text": [
      "                id_new  MOB_DIFF      hour   Enqgrp2  DAY_DIFF  age_band_new  \\\n",
      "id_new        1.000000 -0.747232  0.012532 -0.042813  0.144012     -0.079701   \n",
      "MOB_DIFF     -0.747232  1.000000 -0.013901  0.043356 -0.050271      0.069508   \n",
      "hour          0.012532 -0.013901  1.000000 -0.004182  0.011339     -0.000693   \n",
      "Enqgrp2      -0.042813  0.043356 -0.004182  1.000000  0.015105      0.010580   \n",
      "DAY_DIFF      0.144012 -0.050271  0.011339  0.015105  1.000000      0.010233   \n",
      "age_band_new -0.079701  0.069508 -0.000693  0.010580  0.010233      1.000000   \n",
      "location      0.016224  0.001988  0.005288 -0.003255  0.001757     -0.011185   \n",
      "cbs_band     -0.074499  0.080200 -0.004131  0.006797 -0.025048     -0.076209   \n",
      "Chan          0.044801 -0.052590  0.303869 -0.006917  0.029709     -0.003422   \n",
      "gendr        -0.016867 -0.001887  0.001176  0.004424  0.019302      0.057082   \n",
      "portf         0.329048 -0.357328  0.058952 -0.030366  0.013271     -0.025765   \n",
      "\n",
      "              location  cbs_band      Chan     gendr     portf  \n",
      "id_new        0.016224 -0.074499  0.044801 -0.016867  0.329048  \n",
      "MOB_DIFF      0.001988  0.080200 -0.052590 -0.001887 -0.357328  \n",
      "hour          0.005288 -0.004131  0.303869  0.001176  0.058952  \n",
      "Enqgrp2      -0.003255  0.006797 -0.006917  0.004424 -0.030366  \n",
      "DAY_DIFF      0.001757 -0.025048  0.029709  0.019302  0.013271  \n",
      "age_band_new -0.011185 -0.076209 -0.003422  0.057082 -0.025765  \n",
      "location      1.000000  0.000938  0.005160  0.003933 -0.008184  \n",
      "cbs_band      0.000938  1.000000 -0.026857 -0.003166 -0.196593  \n",
      "Chan          0.005160 -0.026857  1.000000 -0.032639  0.147799  \n",
      "gendr         0.003933 -0.003166 -0.032639  1.000000 -0.003628  \n",
      "portf        -0.008184 -0.196593  0.147799 -0.003628  1.000000  \n"
     ]
    },
    {
     "data": {
      "image/png": "[encoded data removed]",
      "text/plain": [
       "<Figure size 1000x800 with 2 Axes>"
      ]
     },
     "metadata": {},
     "output_type": "display_data"
    }
   ],
   "source": [
    "import pandas as pd\n",
    "import seaborn as sns\n",
    "import matplotlib.pyplot as plt\n",
    "\n",
    "# Load your dataset\n",
    "# df = pd.read_csv('your_data.csv')  # Uncomment and replace with your actual file path\n",
    "\n",
    "# Calculate the correlation matrix\n",
    "correlation_matrix = df.corr()\n",
    "\n",
    "# Print the correlation matrix\n",
    "print(correlation_matrix)\n",
    "\n",
    "# Optionally, visualize the correlation matrix using a heatmap\n",
    "plt.figure(figsize=(10, 8))\n",
    "sns.heatmap(correlation_matrix, annot=True, cmap='coolwarm', fmt='.2f')\n",
    "plt.title('Correlation Matrix')\n",
    "plt.show()\n"
   ]
  },
  {
   "cell_type": "code",
   "execution_count": 47,
   "id": "3a0f8fe4-e59a-4c8f-b98c-1a7115fb6a29",
   "metadata": {},
   "outputs": [],
   "source": [
    "comms=df.groupby(['id_new','cbs_band','portf','DAY_DIFF','age_band_new']).size().reset_index().rename(columns={0:'Chan'})"
   ]
  },
  {
   "cell_type": "code",
   "execution_count": 48,
   "id": "ed68f3be-935f-4573-9692-22fcefb8089f",
   "metadata": {},
   "outputs": [
    {
     "data": {
      "text/html": [
       "<div>\n",
       "<style scoped>\n",
       "    .dataframe tbody tr th:only-of-type {\n",
       "        vertical-align: middle;\n",
       "    }\n",
       "\n",
       "    .dataframe tbody tr th {\n",
       "        vertical-align: top;\n",
       "    }\n",
       "\n",
       "    .dataframe thead th {\n",
       "        text-align: right;\n",
       "    }\n",
       "</style>\n",
       "<table border=\"1\" class=\"dataframe\">\n",
       "  <thead>\n",
       "    <tr style=\"text-align: right;\">\n",
       "      <th></th>\n",
       "      <th>id_new</th>\n",
       "      <th>cbs_band</th>\n",
       "      <th>portf</th>\n",
       "      <th>DAY_DIFF</th>\n",
       "      <th>age_band_new</th>\n",
       "      <th>Chan</th>\n",
       "    </tr>\n",
       "  </thead>\n",
       "  <tbody>\n",
       "    <tr>\n",
       "      <th>0</th>\n",
       "      <td>0</td>\n",
       "      <td>0</td>\n",
       "      <td>0</td>\n",
       "      <td>40.0</td>\n",
       "      <td>0</td>\n",
       "      <td>4</td>\n",
       "    </tr>\n",
       "    <tr>\n",
       "      <th>1</th>\n",
       "      <td>1</td>\n",
       "      <td>1</td>\n",
       "      <td>0</td>\n",
       "      <td>23.0</td>\n",
       "      <td>0</td>\n",
       "      <td>1</td>\n",
       "    </tr>\n",
       "    <tr>\n",
       "      <th>2</th>\n",
       "      <td>2</td>\n",
       "      <td>0</td>\n",
       "      <td>0</td>\n",
       "      <td>94.0</td>\n",
       "      <td>0</td>\n",
       "      <td>7</td>\n",
       "    </tr>\n",
       "    <tr>\n",
       "      <th>3</th>\n",
       "      <td>3</td>\n",
       "      <td>0</td>\n",
       "      <td>0</td>\n",
       "      <td>103.0</td>\n",
       "      <td>1</td>\n",
       "      <td>4</td>\n",
       "    </tr>\n",
       "    <tr>\n",
       "      <th>4</th>\n",
       "      <td>4</td>\n",
       "      <td>0</td>\n",
       "      <td>0</td>\n",
       "      <td>106.0</td>\n",
       "      <td>2</td>\n",
       "      <td>1</td>\n",
       "    </tr>\n",
       "    <tr>\n",
       "      <th>...</th>\n",
       "      <td>...</td>\n",
       "      <td>...</td>\n",
       "      <td>...</td>\n",
       "      <td>...</td>\n",
       "      <td>...</td>\n",
       "      <td>...</td>\n",
       "    </tr>\n",
       "    <tr>\n",
       "      <th>422494</th>\n",
       "      <td>350369</td>\n",
       "      <td>4</td>\n",
       "      <td>4</td>\n",
       "      <td>79.0</td>\n",
       "      <td>2</td>\n",
       "      <td>1</td>\n",
       "    </tr>\n",
       "    <tr>\n",
       "      <th>422495</th>\n",
       "      <td>350369</td>\n",
       "      <td>4</td>\n",
       "      <td>4</td>\n",
       "      <td>83.0</td>\n",
       "      <td>2</td>\n",
       "      <td>1</td>\n",
       "    </tr>\n",
       "    <tr>\n",
       "      <th>422496</th>\n",
       "      <td>350369</td>\n",
       "      <td>4</td>\n",
       "      <td>4</td>\n",
       "      <td>88.0</td>\n",
       "      <td>2</td>\n",
       "      <td>1</td>\n",
       "    </tr>\n",
       "    <tr>\n",
       "      <th>422497</th>\n",
       "      <td>350370</td>\n",
       "      <td>4</td>\n",
       "      <td>16</td>\n",
       "      <td>108.0</td>\n",
       "      <td>1</td>\n",
       "      <td>1</td>\n",
       "    </tr>\n",
       "    <tr>\n",
       "      <th>422498</th>\n",
       "      <td>350371</td>\n",
       "      <td>4</td>\n",
       "      <td>4</td>\n",
       "      <td>125.0</td>\n",
       "      <td>0</td>\n",
       "      <td>7</td>\n",
       "    </tr>\n",
       "  </tbody>\n",
       "</table>\n",
       "<p>422499 rows × 6 columns</p>\n",
       "</div>"
      ],
      "text/plain": [
       "        id_new  cbs_band  portf  DAY_DIFF  age_band_new  Chan\n",
       "0            0         0      0      40.0             0     4\n",
       "1            1         1      0      23.0             0     1\n",
       "2            2         0      0      94.0             0     7\n",
       "3            3         0      0     103.0             1     4\n",
       "4            4         0      0     106.0             2     1\n",
       "...        ...       ...    ...       ...           ...   ...\n",
       "422494  350369         4      4      79.0             2     1\n",
       "422495  350369         4      4      83.0             2     1\n",
       "422496  350369         4      4      88.0             2     1\n",
       "422497  350370         4     16     108.0             1     1\n",
       "422498  350371         4      4     125.0             0     7\n",
       "\n",
       "[422499 rows x 6 columns]"
      ]
     },
     "execution_count": 48,
     "metadata": {},
     "output_type": "execute_result"
    }
   ],
   "source": [
    "comms"
   ]
  },
  {
   "cell_type": "code",
   "execution_count": 49,
   "id": "97a65dd2-9012-4ddc-9590-9f71081070d2",
   "metadata": {},
   "outputs": [
    {
     "data": {
      "text/plain": [
       "(422499, 6)"
      ]
     },
     "execution_count": 49,
     "metadata": {},
     "output_type": "execute_result"
    }
   ],
   "source": [
    "comms.shape"
   ]
  },
  {
   "cell_type": "code",
   "execution_count": 50,
   "id": "6bfcbc6e-d3b8-4e5b-b33c-5b2b3530bac8",
   "metadata": {},
   "outputs": [],
   "source": [
    "grouped_data = df.groupby('id_new')[['cbs_band', 'portf', 'DAY_DIFF', 'Chan']].agg(lambda x: x.unique().tolist())"
   ]
  },
  {
   "cell_type": "code",
   "execution_count": 51,
   "id": "f55366c0-49fb-4e86-a6d5-b01ab2c1a83b",
   "metadata": {},
   "outputs": [
    {
     "data": {
      "text/html": [
       "<div>\n",
       "<style scoped>\n",
       "    .dataframe tbody tr th:only-of-type {\n",
       "        vertical-align: middle;\n",
       "    }\n",
       "\n",
       "    .dataframe tbody tr th {\n",
       "        vertical-align: top;\n",
       "    }\n",
       "\n",
       "    .dataframe thead th {\n",
       "        text-align: right;\n",
       "    }\n",
       "</style>\n",
       "<table border=\"1\" class=\"dataframe\">\n",
       "  <thead>\n",
       "    <tr style=\"text-align: right;\">\n",
       "      <th></th>\n",
       "      <th>cbs_band</th>\n",
       "      <th>portf</th>\n",
       "      <th>DAY_DIFF</th>\n",
       "      <th>Chan</th>\n",
       "    </tr>\n",
       "    <tr>\n",
       "      <th>id_new</th>\n",
       "      <th></th>\n",
       "      <th></th>\n",
       "      <th></th>\n",
       "      <th></th>\n",
       "    </tr>\n",
       "  </thead>\n",
       "  <tbody>\n",
       "    <tr>\n",
       "      <th>0</th>\n",
       "      <td>[0]</td>\n",
       "      <td>[0]</td>\n",
       "      <td>[40.0]</td>\n",
       "      <td>[0]</td>\n",
       "    </tr>\n",
       "    <tr>\n",
       "      <th>1</th>\n",
       "      <td>[1]</td>\n",
       "      <td>[0]</td>\n",
       "      <td>[23.0]</td>\n",
       "      <td>[1]</td>\n",
       "    </tr>\n",
       "    <tr>\n",
       "      <th>2</th>\n",
       "      <td>[0]</td>\n",
       "      <td>[0]</td>\n",
       "      <td>[94.0]</td>\n",
       "      <td>[1, 2]</td>\n",
       "    </tr>\n",
       "    <tr>\n",
       "      <th>3</th>\n",
       "      <td>[0]</td>\n",
       "      <td>[0]</td>\n",
       "      <td>[103.0]</td>\n",
       "      <td>[1]</td>\n",
       "    </tr>\n",
       "    <tr>\n",
       "      <th>4</th>\n",
       "      <td>[0]</td>\n",
       "      <td>[0]</td>\n",
       "      <td>[106.0]</td>\n",
       "      <td>[0]</td>\n",
       "    </tr>\n",
       "    <tr>\n",
       "      <th>...</th>\n",
       "      <td>...</td>\n",
       "      <td>...</td>\n",
       "      <td>...</td>\n",
       "      <td>...</td>\n",
       "    </tr>\n",
       "    <tr>\n",
       "      <th>350365</th>\n",
       "      <td>[3]</td>\n",
       "      <td>[16]</td>\n",
       "      <td>[8.0]</td>\n",
       "      <td>[2]</td>\n",
       "    </tr>\n",
       "    <tr>\n",
       "      <th>350367</th>\n",
       "      <td>[3]</td>\n",
       "      <td>[16]</td>\n",
       "      <td>[8.0]</td>\n",
       "      <td>[2]</td>\n",
       "    </tr>\n",
       "    <tr>\n",
       "      <th>350369</th>\n",
       "      <td>[4]</td>\n",
       "      <td>[4]</td>\n",
       "      <td>[83.0, 88.0, 79.0]</td>\n",
       "      <td>[2]</td>\n",
       "    </tr>\n",
       "    <tr>\n",
       "      <th>350370</th>\n",
       "      <td>[4]</td>\n",
       "      <td>[16]</td>\n",
       "      <td>[108.0]</td>\n",
       "      <td>[2]</td>\n",
       "    </tr>\n",
       "    <tr>\n",
       "      <th>350371</th>\n",
       "      <td>[4]</td>\n",
       "      <td>[4]</td>\n",
       "      <td>[125.0]</td>\n",
       "      <td>[1]</td>\n",
       "    </tr>\n",
       "  </tbody>\n",
       "</table>\n",
       "<p>276965 rows × 4 columns</p>\n",
       "</div>"
      ],
      "text/plain": [
       "       cbs_band portf            DAY_DIFF    Chan\n",
       "id_new                                           \n",
       "0           [0]   [0]              [40.0]     [0]\n",
       "1           [1]   [0]              [23.0]     [1]\n",
       "2           [0]   [0]              [94.0]  [1, 2]\n",
       "3           [0]   [0]             [103.0]     [1]\n",
       "4           [0]   [0]             [106.0]     [0]\n",
       "...         ...   ...                 ...     ...\n",
       "350365      [3]  [16]               [8.0]     [2]\n",
       "350367      [3]  [16]               [8.0]     [2]\n",
       "350369      [4]   [4]  [83.0, 88.0, 79.0]     [2]\n",
       "350370      [4]  [16]             [108.0]     [2]\n",
       "350371      [4]   [4]             [125.0]     [1]\n",
       "\n",
       "[276965 rows x 4 columns]"
      ]
     },
     "execution_count": 51,
     "metadata": {},
     "output_type": "execute_result"
    }
   ],
   "source": [
    "grouped_data"
   ]
  },
  {
   "cell_type": "code",
   "execution_count": 52,
   "id": "e66bf938-4d19-4c3c-a58f-ca846ddfe7ee",
   "metadata": {},
   "outputs": [
    {
     "data": {
      "text/plain": [
       "np.float64(-0.0006926443625094216)"
      ]
     },
     "execution_count": 52,
     "metadata": {},
     "output_type": "execute_result"
    }
   ],
   "source": [
    "df['age_band_new'].corr(df['hour'])"
   ]
  },
  {
   "cell_type": "code",
   "execution_count": 53,
   "id": "a4e046a4-ae96-4825-bc5b-734c26522d0d",
   "metadata": {},
   "outputs": [
    {
     "data": {
      "text/plain": [
       "np.float64(-0.01118530881185362)"
      ]
     },
     "execution_count": 53,
     "metadata": {},
     "output_type": "execute_result"
    }
   ],
   "source": [
    "df['location'].corr(df['age_band_new'])"
   ]
  },
  {
   "cell_type": "markdown",
   "id": "002c4562-f12c-4395-b216-b1a95125f7a1",
   "metadata": {},
   "source": [
    "## MODEL "
   ]
  },
  {
   "cell_type": "code",
   "execution_count": 150,
   "id": "024a7b39-1db6-498c-a763-a4b9d932903a",
   "metadata": {},
   "outputs": [],
   "source": [
    "from sklearn.model_selection import train_test_split, GridSearchCV\n",
    "from sklearn.preprocessing import StandardScaler, LabelEncoder\n",
    "from xgboost import XGBClassifier\n",
    "from sklearn.metrics import accuracy_score, classification_report, confusion_matrix"
   ]
  },
  {
   "cell_type": "code",
   "execution_count": 161,
   "id": "4357ee8a-bd64-4e5d-b045-53c63f281691",
   "metadata": {},
   "outputs": [
    {
     "name": "stdout",
     "output_type": "stream",
     "text": [
      "   id_new  MOB_DIFF  hour  Enqgrp2  DAY_DIFF  age_band_new  location  \\\n",
      "0   83229      14.0    10       32      27.0             3         2   \n",
      "1   20717      40.0     3       50      71.0             2         2   \n",
      "2  166082       3.0     5        1       3.0             0         3   \n",
      "3   30808      33.0    12       49     103.0             4         3   \n",
      "4  186913       3.0    11       18      52.0             3         2   \n",
      "\n",
      "   cbs_band  Chan  gendr  portf  \n",
      "0         0     1      0      9  \n",
      "1         3     1      1      0  \n",
      "2         3     1      0      9  \n",
      "3         2     1      0      4  \n",
      "4         2     2      1     17  \n"
     ]
    },
    {
     "name": "stderr",
     "output_type": "stream",
     "text": [
      "C:\\Users\\HP\\AppData\\Local\\Temp\\ipykernel_15956\\4125357077.py:8: SettingWithCopyWarning: \n",
      "A value is trying to be set on a copy of a slice from a DataFrame.\n",
      "Try using .loc[row_indexer,col_indexer] = value instead\n",
      "\n",
      "See the caveats in the documentation: https://pandas.pydata.org/pandas-docs/stable/user_guide/indexing.html#returning-a-view-versus-a-copy\n",
      "  df[column] = le.fit_transform(df[column])\n",
      "C:\\Users\\HP\\AppData\\Local\\Temp\\ipykernel_15956\\4125357077.py:8: SettingWithCopyWarning: \n",
      "A value is trying to be set on a copy of a slice from a DataFrame.\n",
      "Try using .loc[row_indexer,col_indexer] = value instead\n",
      "\n",
      "See the caveats in the documentation: https://pandas.pydata.org/pandas-docs/stable/user_guide/indexing.html#returning-a-view-versus-a-copy\n",
      "  df[column] = le.fit_transform(df[column])\n",
      "C:\\Users\\HP\\AppData\\Local\\Temp\\ipykernel_15956\\4125357077.py:8: SettingWithCopyWarning: \n",
      "A value is trying to be set on a copy of a slice from a DataFrame.\n",
      "Try using .loc[row_indexer,col_indexer] = value instead\n",
      "\n",
      "See the caveats in the documentation: https://pandas.pydata.org/pandas-docs/stable/user_guide/indexing.html#returning-a-view-versus-a-copy\n",
      "  df[column] = le.fit_transform(df[column])\n",
      "C:\\Users\\HP\\AppData\\Local\\Temp\\ipykernel_15956\\4125357077.py:8: SettingWithCopyWarning: \n",
      "A value is trying to be set on a copy of a slice from a DataFrame.\n",
      "Try using .loc[row_indexer,col_indexer] = value instead\n",
      "\n",
      "See the caveats in the documentation: https://pandas.pydata.org/pandas-docs/stable/user_guide/indexing.html#returning-a-view-versus-a-copy\n",
      "  df[column] = le.fit_transform(df[column])\n",
      "C:\\Users\\HP\\AppData\\Local\\Temp\\ipykernel_15956\\4125357077.py:8: SettingWithCopyWarning: \n",
      "A value is trying to be set on a copy of a slice from a DataFrame.\n",
      "Try using .loc[row_indexer,col_indexer] = value instead\n",
      "\n",
      "See the caveats in the documentation: https://pandas.pydata.org/pandas-docs/stable/user_guide/indexing.html#returning-a-view-versus-a-copy\n",
      "  df[column] = le.fit_transform(df[column])\n"
     ]
    }
   ],
   "source": [
    "\n",
    "# Inspect the data\n",
    "print(df.head())\n",
    "\n",
    "# Encode categorical variables\n",
    "label_encoders = {}\n",
    "for column in ['id_new', 'Enqgrp2', 'location', 'portf','Chan']:  # Add other categorical columns as needed\n",
    "    le = LabelEncoder()\n",
    "    df[column] = le.fit_transform(df[column])\n",
    "    label_encoders[column] = le\n",
    "\n",
    "# Split the data into features and target variables\n",
    "X = df.drop(columns=['Chan'])  # Features\n",
    "y = df['Chan']  # Target variable\n",
    "\n",
    "# Split into training and test sets\n",
    "X_train, X_test, y_train, y_test = train_test_split(X, y, test_size=0.2, random_state=42)\n",
    "\n",
    "# Scale the features (optional for XGBoost, but recommended)\n",
    "scaler = StandardScaler()\n",
    "X_train = scaler.fit_transform(X_train)\n",
    "X_test = scaler.transform(X_test)\n"
   ]
  },
  {
   "cell_type": "code",
   "execution_count": 162,
   "id": "13c29c31-e248-4ece-a974-f2643ea63440",
   "metadata": {},
   "outputs": [
    {
     "name": "stdout",
     "output_type": "stream",
     "text": [
      "Accuracy: 0.87\n",
      "              precision    recall  f1-score   support\n",
      "\n",
      "           0       0.88      0.38      0.53     22064\n",
      "           1       0.87      0.94      0.90    102476\n",
      "           2       0.87      0.94      0.90     46870\n",
      "\n",
      "    accuracy                           0.87    171410\n",
      "   macro avg       0.87      0.76      0.78    171410\n",
      "weighted avg       0.87      0.87      0.86    171410\n",
      "\n",
      "[[ 8448 12140  1476]\n",
      " [ 1093 96241  5142]\n",
      " [   68  2602 44200]]\n"
     ]
    }
   ],
   "source": [
    "from sklearn.ensemble import RandomForestClassifier\n",
    "\n",
    "# Initialize the model\n",
    "rf_model = RandomForestClassifier(n_estimators=100, random_state=42)\n",
    "\n",
    "# Train the model\n",
    "rf_model.fit(X_train, y_train)\n",
    "\n",
    "# Make predictions\n",
    "y_pred = rf_model.predict(X_test)\n",
    "\n",
    "# Evaluate the model\n",
    "accuracy = accuracy_score(y_test, y_pred)\n",
    "print(f'Accuracy: {accuracy:.2f}')\n",
    "\n",
    "# Classification report\n",
    "print(classification_report(y_test, y_pred))\n",
    "\n",
    "# Confusion matrix\n",
    "conf_matrix = confusion_matrix(y_test, y_pred)\n",
    "print(conf_matrix)"
   ]
  },
  {
   "cell_type": "markdown",
   "id": "df062981-fe22-40da-8ec2-ee84500b50d0",
   "metadata": {},
   "source": [
    "## random forest classifier is giving 87% accuracy"
   ]
  },
  {
   "cell_type": "code",
   "execution_count": 163,
   "id": "1e9f1b70-420b-41e2-b8e8-6c18769be1a7",
   "metadata": {},
   "outputs": [
    {
     "name": "stdout",
     "output_type": "stream",
     "text": [
      "R² score: 0.58\n"
     ]
    }
   ],
   "source": [
    "# Calculate R² score\n",
    "from sklearn.metrics import r2_score\n",
    "r2 = r2_score(y_test, y_pred)\n",
    "\n",
    "# Print the R² score\n",
    "print(f'R² score: {r2:.2f}')"
   ]
  },
  {
   "cell_type": "markdown",
   "id": "d70f4024-10f9-40e1-b6f4-ff22b219002d",
   "metadata": {},
   "source": [
    "## R2 SCORE OF THE MODEL IS 0.58"
   ]
  },
  {
   "cell_type": "code",
   "execution_count": 156,
   "id": "0613285b-b904-4961-9bd8-af42f2fbe66b",
   "metadata": {},
   "outputs": [
    {
     "name": "stdout",
     "output_type": "stream",
     "text": [
      "Mean Squared Error: 0.35\n"
     ]
    }
   ],
   "source": [
    "from sklearn.metrics import mean_squared_error\n",
    "\n",
    "# Assume y_test is the true labels and y_pred are the predictions from the model\n",
    "mse = mean_squared_error(y_test, y_pred)\n",
    "\n",
    "print(f'Mean Squared Error: {mse:.2f}')\n",
    "\n"
   ]
  },
  {
   "cell_type": "markdown",
   "id": "cef24a5a-e787-40c5-bfa9-ddbdd69b116c",
   "metadata": {},
   "source": [
    "# Mean Squared Error is : 0.35"
   ]
  },
  {
   "cell_type": "code",
   "execution_count": 157,
   "id": "ea587b61-6faa-41e9-8a0e-99ac9919a961",
   "metadata": {},
   "outputs": [
    {
     "data": {
      "text/plain": [
       "0         False\n",
       "1         False\n",
       "2         False\n",
       "3         False\n",
       "4         False\n",
       "          ...  \n",
       "999994     True\n",
       "999995    False\n",
       "999996    False\n",
       "999997     True\n",
       "999998     True\n",
       "Length: 999999, dtype: bool"
      ]
     },
     "execution_count": 157,
     "metadata": {},
     "output_type": "execute_result"
    }
   ],
   "source": [
    "df.duplicated()"
   ]
  },
  {
   "cell_type": "code",
   "execution_count": 159,
   "id": "065d4d9b-a604-432e-b184-5f73db034aca",
   "metadata": {},
   "outputs": [],
   "source": [
    "df=df.drop_duplicates()"
   ]
  },
  {
   "cell_type": "code",
   "execution_count": 160,
   "id": "2c527e14-f69c-46b0-bcd5-61400c62052d",
   "metadata": {},
   "outputs": [
    {
     "data": {
      "text/html": [
       "<div>\n",
       "<style scoped>\n",
       "    .dataframe tbody tr th:only-of-type {\n",
       "        vertical-align: middle;\n",
       "    }\n",
       "\n",
       "    .dataframe tbody tr th {\n",
       "        vertical-align: top;\n",
       "    }\n",
       "\n",
       "    .dataframe thead th {\n",
       "        text-align: right;\n",
       "    }\n",
       "</style>\n",
       "<table border=\"1\" class=\"dataframe\">\n",
       "  <thead>\n",
       "    <tr style=\"text-align: right;\">\n",
       "      <th></th>\n",
       "      <th>id_new</th>\n",
       "      <th>MOB_DIFF</th>\n",
       "      <th>hour</th>\n",
       "      <th>Enqgrp2</th>\n",
       "      <th>DAY_DIFF</th>\n",
       "      <th>age_band_new</th>\n",
       "      <th>location</th>\n",
       "      <th>cbs_band</th>\n",
       "      <th>Chan</th>\n",
       "      <th>gendr</th>\n",
       "      <th>portf</th>\n",
       "    </tr>\n",
       "  </thead>\n",
       "  <tbody>\n",
       "    <tr>\n",
       "      <th>0</th>\n",
       "      <td>83229</td>\n",
       "      <td>14.0</td>\n",
       "      <td>10</td>\n",
       "      <td>32</td>\n",
       "      <td>27.0</td>\n",
       "      <td>3</td>\n",
       "      <td>2</td>\n",
       "      <td>0</td>\n",
       "      <td>1</td>\n",
       "      <td>0</td>\n",
       "      <td>9</td>\n",
       "    </tr>\n",
       "    <tr>\n",
       "      <th>1</th>\n",
       "      <td>20717</td>\n",
       "      <td>40.0</td>\n",
       "      <td>3</td>\n",
       "      <td>50</td>\n",
       "      <td>71.0</td>\n",
       "      <td>2</td>\n",
       "      <td>2</td>\n",
       "      <td>3</td>\n",
       "      <td>1</td>\n",
       "      <td>1</td>\n",
       "      <td>0</td>\n",
       "    </tr>\n",
       "    <tr>\n",
       "      <th>2</th>\n",
       "      <td>166082</td>\n",
       "      <td>3.0</td>\n",
       "      <td>5</td>\n",
       "      <td>1</td>\n",
       "      <td>3.0</td>\n",
       "      <td>0</td>\n",
       "      <td>3</td>\n",
       "      <td>3</td>\n",
       "      <td>1</td>\n",
       "      <td>0</td>\n",
       "      <td>9</td>\n",
       "    </tr>\n",
       "    <tr>\n",
       "      <th>3</th>\n",
       "      <td>30808</td>\n",
       "      <td>33.0</td>\n",
       "      <td>12</td>\n",
       "      <td>49</td>\n",
       "      <td>103.0</td>\n",
       "      <td>4</td>\n",
       "      <td>3</td>\n",
       "      <td>2</td>\n",
       "      <td>1</td>\n",
       "      <td>0</td>\n",
       "      <td>4</td>\n",
       "    </tr>\n",
       "    <tr>\n",
       "      <th>4</th>\n",
       "      <td>186913</td>\n",
       "      <td>3.0</td>\n",
       "      <td>11</td>\n",
       "      <td>18</td>\n",
       "      <td>52.0</td>\n",
       "      <td>3</td>\n",
       "      <td>2</td>\n",
       "      <td>2</td>\n",
       "      <td>2</td>\n",
       "      <td>1</td>\n",
       "      <td>17</td>\n",
       "    </tr>\n",
       "    <tr>\n",
       "      <th>...</th>\n",
       "      <td>...</td>\n",
       "      <td>...</td>\n",
       "      <td>...</td>\n",
       "      <td>...</td>\n",
       "      <td>...</td>\n",
       "      <td>...</td>\n",
       "      <td>...</td>\n",
       "      <td>...</td>\n",
       "      <td>...</td>\n",
       "      <td>...</td>\n",
       "      <td>...</td>\n",
       "    </tr>\n",
       "    <tr>\n",
       "      <th>999990</th>\n",
       "      <td>60251</td>\n",
       "      <td>21.0</td>\n",
       "      <td>14</td>\n",
       "      <td>66</td>\n",
       "      <td>83.0</td>\n",
       "      <td>0</td>\n",
       "      <td>2</td>\n",
       "      <td>3</td>\n",
       "      <td>2</td>\n",
       "      <td>0</td>\n",
       "      <td>9</td>\n",
       "    </tr>\n",
       "    <tr>\n",
       "      <th>999992</th>\n",
       "      <td>107951</td>\n",
       "      <td>5.0</td>\n",
       "      <td>17</td>\n",
       "      <td>44</td>\n",
       "      <td>164.0</td>\n",
       "      <td>3</td>\n",
       "      <td>2</td>\n",
       "      <td>2</td>\n",
       "      <td>2</td>\n",
       "      <td>0</td>\n",
       "      <td>17</td>\n",
       "    </tr>\n",
       "    <tr>\n",
       "      <th>999993</th>\n",
       "      <td>37324</td>\n",
       "      <td>24.0</td>\n",
       "      <td>12</td>\n",
       "      <td>32</td>\n",
       "      <td>32.0</td>\n",
       "      <td>2</td>\n",
       "      <td>2</td>\n",
       "      <td>3</td>\n",
       "      <td>1</td>\n",
       "      <td>0</td>\n",
       "      <td>0</td>\n",
       "    </tr>\n",
       "    <tr>\n",
       "      <th>999995</th>\n",
       "      <td>54025</td>\n",
       "      <td>19.0</td>\n",
       "      <td>11</td>\n",
       "      <td>18</td>\n",
       "      <td>16.0</td>\n",
       "      <td>2</td>\n",
       "      <td>3</td>\n",
       "      <td>0</td>\n",
       "      <td>2</td>\n",
       "      <td>1</td>\n",
       "      <td>19</td>\n",
       "    </tr>\n",
       "    <tr>\n",
       "      <th>999996</th>\n",
       "      <td>161022</td>\n",
       "      <td>3.0</td>\n",
       "      <td>9</td>\n",
       "      <td>63</td>\n",
       "      <td>40.0</td>\n",
       "      <td>0</td>\n",
       "      <td>1</td>\n",
       "      <td>3</td>\n",
       "      <td>1</td>\n",
       "      <td>0</td>\n",
       "      <td>9</td>\n",
       "    </tr>\n",
       "  </tbody>\n",
       "</table>\n",
       "<p>857050 rows × 11 columns</p>\n",
       "</div>"
      ],
      "text/plain": [
       "        id_new  MOB_DIFF  hour  Enqgrp2  DAY_DIFF  age_band_new  location  \\\n",
       "0        83229      14.0    10       32      27.0             3         2   \n",
       "1        20717      40.0     3       50      71.0             2         2   \n",
       "2       166082       3.0     5        1       3.0             0         3   \n",
       "3        30808      33.0    12       49     103.0             4         3   \n",
       "4       186913       3.0    11       18      52.0             3         2   \n",
       "...        ...       ...   ...      ...       ...           ...       ...   \n",
       "999990   60251      21.0    14       66      83.0             0         2   \n",
       "999992  107951       5.0    17       44     164.0             3         2   \n",
       "999993   37324      24.0    12       32      32.0             2         2   \n",
       "999995   54025      19.0    11       18      16.0             2         3   \n",
       "999996  161022       3.0     9       63      40.0             0         1   \n",
       "\n",
       "        cbs_band  Chan  gendr  portf  \n",
       "0              0     1      0      9  \n",
       "1              3     1      1      0  \n",
       "2              3     1      0      9  \n",
       "3              2     1      0      4  \n",
       "4              2     2      1     17  \n",
       "...          ...   ...    ...    ...  \n",
       "999990         3     2      0      9  \n",
       "999992         2     2      0     17  \n",
       "999993         3     1      0      0  \n",
       "999995         0     2      1     19  \n",
       "999996         3     1      0      9  \n",
       "\n",
       "[857050 rows x 11 columns]"
      ]
     },
     "execution_count": 160,
     "metadata": {},
     "output_type": "execute_result"
    }
   ],
   "source": [
    "df"
   ]
  },
  {
   "cell_type": "code",
   "execution_count": 164,
   "id": "42b42c2c-213c-41ef-a4f6-494469f4ff28",
   "metadata": {},
   "outputs": [
    {
     "data": {
      "text/plain": [
       "id_new         -0.043704\n",
       "MOB_DIFF        3.025322\n",
       "hour           -0.072247\n",
       "Enqgrp2         0.106800\n",
       "DAY_DIFF        0.196452\n",
       "age_band_new    0.178025\n",
       "location        1.455930\n",
       "cbs_band       -0.330985\n",
       "Chan           -0.101789\n",
       "gendr           1.968396\n",
       "portf           0.217909\n",
       "dtype: float64"
      ]
     },
     "execution_count": 164,
     "metadata": {},
     "output_type": "execute_result"
    }
   ],
   "source": [
    "df.skew()"
   ]
  },
  {
   "cell_type": "code",
   "execution_count": 169,
   "id": "e7f60efd-1d0b-4be4-997a-f4488bae1373",
   "metadata": {},
   "outputs": [
    {
     "data": {
      "text/plain": [
       "170"
      ]
     },
     "execution_count": 169,
     "metadata": {},
     "output_type": "execute_result"
    }
   ],
   "source": [
    "df['MOB_DIFF'].nunique()"
   ]
  },
  {
   "cell_type": "code",
   "execution_count": 170,
   "id": "d393eb91-1529-494e-820d-4d9f78103b66",
   "metadata": {},
   "outputs": [
    {
     "data": {
      "text/plain": [
       "MOB_DIFF\n",
       "2.0      69140\n",
       "1.0      57211\n",
       "4.0      51468\n",
       "3.0      50679\n",
       "0.0      49077\n",
       "         ...  \n",
       "158.0       12\n",
       "159.0       12\n",
       "162.0        7\n",
       "161.0        4\n",
       "165.0        1\n",
       "Name: count, Length: 170, dtype: int64"
      ]
     },
     "execution_count": 170,
     "metadata": {},
     "output_type": "execute_result"
    }
   ],
   "source": [
    "df['MOB_DIFF'].value_counts()"
   ]
  },
  {
   "cell_type": "markdown",
   "id": "3f1f95cb-412a-4875-9aae-14817215a4b8",
   "metadata": {},
   "source": [
    "## MAXIMUM NUMBER OF CUSTOMERS HAVE JOINED TVS CREDIT CUSTOMER IN THE RECENT 2 MONTHS FOLLOWED BY 1 MONTH, 4 MONTHS, 3 MONTHS AND 0 MONTHS"
   ]
  },
  {
   "cell_type": "code",
   "execution_count": 173,
   "id": "8031151a-eb0e-4a14-b03e-c1dad6626839",
   "metadata": {},
   "outputs": [
    {
     "data": {
      "text/plain": [
       "np.float64(82.64639752639869)"
      ]
     },
     "execution_count": 173,
     "metadata": {},
     "output_type": "execute_result"
    }
   ],
   "source": [
    "df['DAY_DIFF'].mean()"
   ]
  },
  {
   "cell_type": "code",
   "execution_count": 174,
   "id": "051520fb-4c9f-44a2-b607-c8c5702c3e71",
   "metadata": {},
   "outputs": [
    {
     "data": {
      "text/plain": [
       "0    94.0\n",
       "Name: DAY_DIFF, dtype: float64"
      ]
     },
     "execution_count": 174,
     "metadata": {},
     "output_type": "execute_result"
    }
   ],
   "source": [
    "max=df['DAY_DIFF'].mode()"
   ]
  },
  {
   "cell_type": "markdown",
   "id": "748d6109-3f66-42c3-8680-0433c2de1f1e",
   "metadata": {},
   "source": [
    "## As mode and mean are near about 90 days so we will choose a window frame of 90 days"
   ]
  },
  {
   "cell_type": "code",
   "execution_count": 178,
   "id": "7c338cdb-4531-4daf-bb4c-851082cc58ae",
   "metadata": {},
   "outputs": [],
   "source": [
    "max=df['DAY_DIFF'].median()"
   ]
  },
  {
   "cell_type": "code",
   "execution_count": 181,
   "id": "47b0ff1c-6c30-4f12-a619-846685ad666c",
   "metadata": {},
   "outputs": [
    {
     "data": {
      "text/plain": [
       "np.float64(79.0)"
      ]
     },
     "execution_count": 181,
     "metadata": {},
     "output_type": "execute_result"
    }
   ],
   "source": [
    "max"
   ]
  },
  {
   "cell_type": "code",
   "execution_count": 191,
   "id": "292fb21f-1586-447d-9273-58cce1ef0ef5",
   "metadata": {},
   "outputs": [
    {
     "data": {
      "text/plain": [
       "np.float64(82.64639752639869)"
      ]
     },
     "execution_count": 191,
     "metadata": {},
     "output_type": "execute_result"
    }
   ],
   "source": [
    "df['DAY_DIFF'].mean()"
   ]
  },
  {
   "cell_type": "code",
   "execution_count": 196,
   "id": "40cd6b3a-5724-4e51-8354-fab90edc312b",
   "metadata": {},
   "outputs": [
    {
     "name": "stdout",
     "output_type": "stream",
     "text": [
      "Number of customers with less than 5 months who are facing issues: 50799\n"
     ]
    }
   ],
   "source": [
    "\n",
    "# Filter customers with less than 5 months of engagement who are facing issues\n",
    "customers_with_issues = df[(df['MOB_DIFF'] < 5) & (df['Enqgrp2'] == 18)]\n",
    "\n",
    "# Count the number of such customers\n",
    "num_customers_with_issues = customers_with_issues.shape[0]\n",
    "\n",
    "print(f\"Number of customers with less than 5 months who are facing issues: {num_customers_with_issues}\")\n"
   ]
  },
  {
   "cell_type": "code",
   "execution_count": 198,
   "id": "90230250-bb70-45bc-8b89-cd805e35fe23",
   "metadata": {},
   "outputs": [
    {
     "data": {
      "text/plain": [
       "array([0, 3, 2, 4, 5, 1])"
      ]
     },
     "execution_count": 198,
     "metadata": {},
     "output_type": "execute_result"
    }
   ],
   "source": [
    "df['cbs_band'].unique()"
   ]
  },
  {
   "cell_type": "code",
   "execution_count": 199,
   "id": "e2339381-da2a-4f36-bb04-617c5056e20b",
   "metadata": {},
   "outputs": [
    {
     "data": {
      "text/plain": [
       "array([298490, 219859, 170658, 127834,  34152,   6057])"
      ]
     },
     "execution_count": 199,
     "metadata": {},
     "output_type": "execute_result"
    }
   ],
   "source": [
    "df['cbs_band'].value_counts().unique()"
   ]
  },
  {
   "cell_type": "code",
   "execution_count": 204,
   "id": "a44be372-cc20-4953-921d-468b0d25238c",
   "metadata": {},
   "outputs": [],
   "source": [
    "sorted=df['MOB_DIFF'].unique()"
   ]
  },
  {
   "cell_type": "code",
   "execution_count": 205,
   "id": "5b238bc3-50a8-433e-abaa-6cf63a6bc73f",
   "metadata": {},
   "outputs": [],
   "source": [
    "sorted.sort()"
   ]
  },
  {
   "cell_type": "code",
   "execution_count": 206,
   "id": "7243a2d4-79df-4b09-9f9e-b0f6dfc02ee8",
   "metadata": {},
   "outputs": [
    {
     "data": {
      "text/plain": [
       "array([ -6.,  -5.,  -4.,  -3.,  -2.,  -1.,   0.,   1.,   2.,   3.,   4.,\n",
       "         5.,   6.,   7.,   8.,   9.,  10.,  11.,  12.,  13.,  14.,  15.,\n",
       "        16.,  17.,  18.,  19.,  20.,  21.,  22.,  23.,  24.,  25.,  26.,\n",
       "        27.,  28.,  29.,  30.,  31.,  32.,  33.,  34.,  35.,  36.,  37.,\n",
       "        38.,  39.,  40.,  41.,  42.,  43.,  44.,  45.,  46.,  47.,  48.,\n",
       "        49.,  50.,  51.,  52.,  53.,  54.,  55.,  56.,  57.,  58.,  59.,\n",
       "        60.,  61.,  62.,  63.,  64.,  65.,  66.,  67.,  68.,  69.,  70.,\n",
       "        71.,  72.,  73.,  74.,  75.,  76.,  77.,  78.,  79.,  80.,  81.,\n",
       "        82.,  83.,  84.,  85.,  86.,  87.,  88.,  89.,  90.,  91.,  92.,\n",
       "        93.,  94.,  95.,  96.,  97.,  98.,  99., 100., 101., 102., 103.,\n",
       "       104., 105., 106., 107., 108., 109., 110., 111., 112., 113., 114.,\n",
       "       115., 116., 117., 118., 119., 120., 121., 122., 123., 124., 125.,\n",
       "       126., 127., 128., 129., 130., 131., 132., 133., 134., 135., 136.,\n",
       "       137., 138., 139., 140., 141., 142., 143., 144., 145., 146., 147.,\n",
       "       148., 149., 150., 151., 152., 153., 154., 155., 156., 157., 158.,\n",
       "       159., 160., 161., 162., 165.])"
      ]
     },
     "execution_count": 206,
     "metadata": {},
     "output_type": "execute_result"
    }
   ],
   "source": [
    "sorted"
   ]
  },
  {
   "cell_type": "code",
   "execution_count": 203,
   "id": "975c5c20-2b90-4b92-9847-522e0c952ea7",
   "metadata": {},
   "outputs": [
    {
     "data": {
      "text/plain": [
       "array([69140, 57211, 51468, 50679, 49077, 46781, 44428, 40569, 34774,\n",
       "       31739, 23423, 21029, 19782, 17541, 17212, 15691, 14263, 13916,\n",
       "       13112, 11925, 11624, 11076, 10466, 10367,  9867,  9582,  8682,\n",
       "        8607,  8316,  7045,  7017,  6927,  5710,  5189,  4513,  4283,\n",
       "        3742,  3697,  3632,  3078,  3059,  2744,  2510,  2131,  2094,\n",
       "        2069,  2055,  1965,  1914,  1874,  1849,  1601,  1582,  1531,\n",
       "        1528,  1518,  1515,  1476,  1441,  1374,  1356,  1301,  1228,\n",
       "        1195,  1147,  1132,  1089,  1088,   957,   825,   806,   659,\n",
       "         652,   642,   559,   557,   551,   549,   521,   511,   499,\n",
       "         468,   451,   448,   434,   407,   404,   387,   383,   374,\n",
       "         357,   354,   352,   348,   341,   312,   311,   306,   293,\n",
       "         287,   280,   261,   243,   235,   209,   199,   197,   195,\n",
       "         181,   176,   172,   170,   167,   152,   148,   145,   142,\n",
       "         140,   137,   129,   128,   126,   122,   121,   119,   117,\n",
       "         116,   109,    98,    94,    92,    83,    79,    73,    71,\n",
       "          68,    67,    63,    62,    61,    58,    55,    51,    49,\n",
       "          38,    35,    33,    31,    29,    26,    23,    18,    16,\n",
       "          14,    12,     7,     4,     1])"
      ]
     },
     "execution_count": 203,
     "metadata": {},
     "output_type": "execute_result"
    }
   ],
   "source": [
    "df['MOB_DIFF'].value_counts().unique()"
   ]
  },
  {
   "cell_type": "code",
   "execution_count": 209,
   "id": "83f1208d-b42f-4c8a-a756-1058f04d4a3d",
   "metadata": {},
   "outputs": [],
   "source": [
    "chan_names=df.Chan.value_counts().index"
   ]
  },
  {
   "cell_type": "code",
   "execution_count": 210,
   "id": "6f14606b-c074-455e-8a4b-10cbf9e2a8aa",
   "metadata": {},
   "outputs": [
    {
     "data": {
      "text/plain": [
       "Index([1, 2, 0], dtype='int64', name='Chan')"
      ]
     },
     "execution_count": 210,
     "metadata": {},
     "output_type": "execute_result"
    }
   ],
   "source": [
    "chan_names"
   ]
  },
  {
   "cell_type": "code",
   "execution_count": 211,
   "id": "e8d5292f-1227-44e4-99e5-61ee9b90de9d",
   "metadata": {},
   "outputs": [],
   "source": [
    "chan_val=df.Chan.value_counts().values"
   ]
  },
  {
   "cell_type": "code",
   "execution_count": 213,
   "id": "6f06e2a5-7143-4c46-ba5c-db7412bc8dac",
   "metadata": {},
   "outputs": [
    {
     "data": {
      "text/plain": [
       "([<matplotlib.patches.Wedge at 0x1d9bec63770>,\n",
       "  <matplotlib.patches.Wedge at 0x1d9bc13e930>,\n",
       "  <matplotlib.patches.Wedge at 0x1d9bebb9c70>],\n",
       " [Text(-0.3962750473574141, 1.0261413581187921, '1'),\n",
       "  Text(-0.07698439854875472, -1.097302785187428, '2'),\n",
       "  Text(0.9958916536359682, -0.46711862970579204, '0')],\n",
       " [Text(-0.21615002583131676, 0.5597134680647957, '61.73%'),\n",
       "  Text(-0.04199149011750257, -0.5985287919204152, '24.31%'),\n",
       "  Text(0.5432136292559826, -0.2547919798395229, '13.96%')])"
      ]
     },
     "execution_count": 213,
     "metadata": {},
     "output_type": "execute_result"
    },
    {
     "data": {
      "image/png": "[encoded data removed]",
      "text/plain": [
       "<Figure size 640x480 with 1 Axes>"
      ]
     },
     "metadata": {},
     "output_type": "display_data"
    }
   ],
   "source": [
    "plt.pie(cha_val,labels=chan_names,autopct='%1.2f%%')"
   ]
  },
  {
   "cell_type": "code",
   "execution_count": null,
   "id": "8e60b6b9-d6fd-4ce0-b784-7c21b67b7ddc",
   "metadata": {},
   "outputs": [],
   "source": []
  }
 ],
 "metadata": {
  "kernelspec": {
   "display_name": "Python 3 (ipykernel)",
   "language": "python",
   "name": "python3"
  },
  "language_info": {
   "codemirror_mode": {
    "name": "ipython",
    "version": 3
   },
   "file_extension": ".py",
   "mimetype": "text/x-python",
   "name": "python",
   "nbconvert_exporter": "python",
   "pygments_lexer": "ipython3",
   "version": "3.12.5"
  }
 },
 "nbformat": 4,
 "nbformat_minor": 5
}
